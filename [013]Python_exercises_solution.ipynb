{
 "cells": [
  {
   "cell_type": "markdown",
   "metadata": {},
   "source": [
    "<img src=\"bmi_WHO.jpg\",width=600,height=400>"
   ]
  },
  {
   "cell_type": "markdown",
   "metadata": {},
   "source": [
    "### Exercise 1: Given a list of 5 height/weight pairs, loop through them, calculate the bmi values and print them"
   ]
  },
  {
   "cell_type": "code",
   "execution_count": 5,
   "metadata": {},
   "outputs": [
    {
     "name": "stdout",
     "output_type": "stream",
     "text": "Location 0, value 25.315454293738377\nLocation 1, value 16.014183991535358\nLocation 2, value 26.989619377162633\nLocation 3, value 27.548209366391188\nLocation 4, value 27.13141179099237\n"
    }
   ],
   "source": [
    "bmi_values = [[1.59, 64], [1.87, 56], [1.70, 78], [1.65, 75], [1.77,85]]\n",
    "for i in range(len(bmi_values)):\n",
    "    pair = bmi_values[i]\n",
    "    bmi = pair[1]/(pair[0]*pair[0])\n",
    "    print (\"Location %s, value %s\" % (i, bmi))"
   ]
  },
  {
   "cell_type": "markdown",
   "metadata": {},
   "source": [
    "### Exercise 2: Extend BMI function, print a message if the patient is normal , overweight, or obese"
   ]
  },
  {
   "cell_type": "code",
   "execution_count": 4,
   "metadata": {},
   "outputs": [
    {
     "name": "stdout",
     "output_type": "stream",
     "text": [
      "result of BMI-classification:  Patient has a healthy weight\n"
     ]
    }
   ],
   "source": [
    "def bmi_classify(height, weight):\n",
    "    bmi = weight / (height*height)\n",
    "    if bmi_val >= 30:\n",
    "        bmi_string= (\"Patient is obese\")\n",
    "    elif bmi_val > 25 and bmi_val < 30:\n",
    "        bmi_string= (\"Patient is overweight\")\n",
    "    else:\n",
    "        bmi_string= (\"Patient has a healthy weight\")\n",
    "\n",
    "    print (\"result of BMI-classification: \", bmi_string)"
   ]
  }
 ],
 "metadata": {
  "kernelspec": {
   "display_name": "Python 3",
   "language": "python",
   "name": "python3"
  },
  "language_info": {
   "codemirror_mode": {
    "name": "ipython",
    "version": 3
   },
   "file_extension": ".py",
   "mimetype": "text/x-python",
   "name": "python",
   "nbconvert_exporter": "python",
   "pygments_lexer": "ipython3",
   "version": "3.7.3-final"
  }
 },
 "nbformat": 4,
 "nbformat_minor": 1
}