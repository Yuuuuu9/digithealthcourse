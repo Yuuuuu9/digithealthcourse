{
  "nbformat": 4,
  "nbformat_minor": 0,
  "metadata": {
    "kernelspec": {
      "display_name": "Python 3",
      "language": "python",
      "name": "python3"
    },
    "language_info": {
      "codemirror_mode": {
        "name": "ipython",
        "version": 3
      },
      "file_extension": ".py",
      "mimetype": "text/x-python",
      "name": "python",
      "nbconvert_exporter": "python",
      "pygments_lexer": "ipython3",
      "version": "3.5.4"
    },
    "colab": {
      "name": "Session1_no_solutions.ipynb",
      "provenance": [],
      "include_colab_link": true
    }
  },
  "cells": [
    {
      "cell_type": "markdown",
      "metadata": {
        "id": "view-in-github",
        "colab_type": "text"
      },
      "source": [
        "<a href=\"https://colab.research.google.com/github/niuguy/digithealthcourse/blob/master/introduction_to_python.ipynb\" target=\"_parent\"><img src=\"https://colab.research.google.com/assets/colab-badge.svg\" alt=\"Open In Colab\"/></a>"
      ]
    },
    {
      "cell_type": "markdown",
      "metadata": {
        "id": "CIvTg3EfeMGc",
        "colab_type": "text"
      },
      "source": [
        "# Introduction to Python\n"
      ]
    },
    {
      "cell_type": "markdown",
      "metadata": {
        "id": "1LZPr3OpeMGp",
        "colab_type": "text"
      },
      "source": [
        "# Basics"
      ]
    },
    {
      "cell_type": "markdown",
      "metadata": {
        "id": "29-xvQiUeMGq",
        "colab_type": "text"
      },
      "source": [
        "The print function allows you to print values on the screen."
      ]
    },
    {
      "cell_type": "code",
      "metadata": {
        "id": "E2tORPNZeMGr",
        "colab_type": "code",
        "colab": {},
        "outputId": "ad8fa793-a2a2-498c-e3f5-1d59aa5b5f1d"
      },
      "source": [
        "print (\"Hello, world\")"
      ],
      "execution_count": 0,
      "outputs": [
        {
          "output_type": "stream",
          "text": [
            "Hello, world\n"
          ],
          "name": "stdout"
        }
      ]
    },
    {
      "cell_type": "markdown",
      "metadata": {
        "id": "z8AHuB9aeMGw",
        "colab_type": "text"
      },
      "source": [
        "# Exercise\n",
        "Type the example above\n",
        "\n",
        "Type your name using the print function"
      ]
    },
    {
      "cell_type": "code",
      "metadata": {
        "id": "oR6u5qHZeMGx",
        "colab_type": "code",
        "colab": {},
        "outputId": "9e0b7250-7fce-461a-ba30-b7843eebe564"
      },
      "source": [
        "print (\"Peter Smith\")"
      ],
      "execution_count": 0,
      "outputs": [
        {
          "output_type": "stream",
          "text": [
            "Peter Smith\n"
          ],
          "name": "stdout"
        }
      ]
    },
    {
      "cell_type": "markdown",
      "metadata": {
        "id": "0VeXc_POeMG1",
        "colab_type": "text"
      },
      "source": [
        "## Variables\n",
        "* Variables are how values are stored in a Python programme\n",
        "* Each variable has a unique name\n",
        "* A variable can support multiple data types\n",
        "  * i.e. it can hold a string, a number or a date (more detail below)\n",
        "* You assign a value using the _=_ operator\n",
        "* Variables in Python are _strongly, dynamically typed_\n",
        "  * The data type of a variable does not magically change\n",
        "  * A string will not become a number\n",
        "  * You are not allowed to do operations that are incompatible with the variable data type"
      ]
    },
    {
      "cell_type": "code",
      "metadata": {
        "id": "h6tnjkleeMG2",
        "colab_type": "code",
        "colab": {},
        "outputId": "3833da09-92ef-458d-eb24-268de8463fc8"
      },
      "source": [
        "name = \"PeterRabbit\"\n",
        "type(name)"
      ],
      "execution_count": 0,
      "outputs": [
        {
          "output_type": "execute_result",
          "data": {
            "text/plain": [
              "str"
            ]
          },
          "metadata": {
            "tags": []
          },
          "execution_count": 4
        }
      ]
    },
    {
      "cell_type": "code",
      "metadata": {
        "id": "yUHmAVjTeMG6",
        "colab_type": "code",
        "colab": {},
        "outputId": "fc501d1b-06a7-4c08-af4e-77d04c5a72b7"
      },
      "source": [
        "patient_hr=103.0\n",
        "type(patient_hr)"
      ],
      "execution_count": 0,
      "outputs": [
        {
          "output_type": "execute_result",
          "data": {
            "text/plain": [
              "float"
            ]
          },
          "metadata": {
            "tags": []
          },
          "execution_count": 1
        }
      ]
    },
    {
      "cell_type": "markdown",
      "metadata": {
        "id": "md7IVBVYeMG9",
        "colab_type": "text"
      },
      "source": [
        "## Expressions and operators\n",
        "* Python scripts are essentially a collection of variables and operators\n",
        "* Operators manipulate variables or combine them, forming expressions\n",
        "\n",
        "```Python\n",
        "name = \"Spiros\"\n",
        "```\n",
        "\n",
        "* The operator is _=_\n",
        "* The variable is _name_\n",
        "\n",
        "```Python\n",
        "kg = 85\n",
        "grams = kg * 1000\n",
        "```\n",
        "* The operators are _=_ and _*_\n",
        "* The variables are _kg_ and _grams_\n"
      ]
    },
    {
      "cell_type": "markdown",
      "metadata": {
        "id": "yFj4OS_teMG9",
        "colab_type": "text"
      },
      "source": [
        "##  Arithmetic operators\n",
        "\n",
        "Arithmetic operatora turn your computer into a (very) expensive calculator\n",
        "\n",
        "\n",
        "| Operator | Description | Example | Result |\n",
        "|----------| ----------- | ------- | ------ |\n",
        "| +  | addition           | 2+2  | 4   | \n",
        "| -  | subtraction        | 2-1  | 1   |\n",
        "| /  | division           | 3/2  | 1.5 |\n",
        "| // | division (integer) | 3//2 | 1   | \n",
        "| *  | multiplication     | 5\\*2 | 10  | \n",
        "| %  | modulus            | 7%3  | 1   |\n",
        "| \\*\\* | exponentiation | 2\\*\\*2 | 4 | "
      ]
    },
    {
      "cell_type": "markdown",
      "metadata": {
        "id": "ajJb7Fj2eMG-",
        "colab_type": "text"
      },
      "source": [
        "##### Exercise\n",
        "\n",
        "* Type the examples above\n",
        "* Create two variable that contains a patients systolic and diastolic blood pressure and calculate the _systemic blood pressure_ (systolic - diastolic blood pressure)\n"
      ]
    },
    {
      "cell_type": "code",
      "metadata": {
        "id": "RJS5O613eMG_",
        "colab_type": "code",
        "colab": {},
        "outputId": "e1ad7404-895e-450b-b5b5-c3cec83f07ac"
      },
      "source": [
        "sys_bp = 120\n",
        "dias_bp = 80\n",
        "systemic_bp = sys_bp - dias_bp \n",
        "systemic_bp"
      ],
      "execution_count": 0,
      "outputs": [
        {
          "output_type": "execute_result",
          "data": {
            "text/plain": [
              "40"
            ]
          },
          "metadata": {
            "tags": []
          },
          "execution_count": 4
        }
      ]
    },
    {
      "cell_type": "markdown",
      "metadata": {
        "id": "uLL9MYZQeMHE",
        "colab_type": "text"
      },
      "source": [
        "##  Comparison (aka relational) operators\n",
        "\n",
        "* Comparison operators compare two values and decide the relation among them\n",
        "* They return _true_ if a condition is met and _false_ if its not\n",
        "\n",
        "| Operator | Description | Example | Result |\n",
        "|----------| ----------- | ------- | ------ |\n",
        "| == | true if values are equal     | 2==2  | true  | \n",
        "| != | true if values are not equal | 2!=1  | true  |\n",
        "| >  | greater than                 | 100>2 | true  |\n",
        "| <  | less than                    | 2<-1  | false | \n",
        "| >= | greater than or equal        | 5>=5  | true  | \n",
        "| <= | less than or equal           | 8<=2  | false  |"
      ]
    },
    {
      "cell_type": "markdown",
      "metadata": {
        "id": "76AHpL_GeMHF",
        "colab_type": "text"
      },
      "source": [
        "##### Exercise\n",
        "* Type the examples above\n",
        "* Using the example above, check if the patients systolic blood pressure is _less_ than the diastolic blood pressure"
      ]
    },
    {
      "cell_type": "code",
      "metadata": {
        "id": "01Pzh8o8eMHG",
        "colab_type": "code",
        "colab": {}
      },
      "source": [
        "# your code"
      ],
      "execution_count": 0,
      "outputs": []
    },
    {
      "cell_type": "markdown",
      "metadata": {
        "id": "57eFbXyWeMHI",
        "colab_type": "text"
      },
      "source": [
        "##  Logic operators\n",
        "\n",
        "* Logic operators combine expressions into larger expressions\n",
        "* They work similarly to comparison operators\n",
        "* They return _true_ if a condition is met and _false_ if its not\n",
        "\n",
        "| Operator | Description | Example | Result |\n",
        "|----------| ----------- | ------- | ------ |\n",
        "| and | check if both conditions are true      | 2>1 and 3>4 | false  | \n",
        "| or  | check if either condition is true | 2 < 3 or 1>8  | true  |\n",
        "| xor (^) | check if *only* one condition is true | 4 < 3 xor 3 < 2 | false |"
      ]
    },
    {
      "cell_type": "markdown",
      "metadata": {
        "id": "eeCMPuW0eMHJ",
        "colab_type": "text"
      },
      "source": [
        "##### Exercise\n",
        "* Type the examples above\n",
        "* Using the blood pressure example above, check if a patients systolic blood pressure and diastolic blood pressure are both more than 0"
      ]
    },
    {
      "cell_type": "code",
      "metadata": {
        "id": "MGaI97pheMHK",
        "colab_type": "code",
        "colab": {}
      },
      "source": [
        "# your code"
      ],
      "execution_count": 0,
      "outputs": []
    },
    {
      "cell_type": "markdown",
      "metadata": {
        "id": "Lfr4Rou-eMHM",
        "colab_type": "text"
      },
      "source": [
        "## Data types"
      ]
    },
    {
      "cell_type": "markdown",
      "metadata": {
        "id": "USzQjfzoeMHN",
        "colab_type": "text"
      },
      "source": [
        "### Numbers\n",
        "* Number data types store numeric values.\n",
        "* Number objects are created when you assign a value to them.\n",
        "* Python supports four different numerical data types.\n",
        "\n",
        "| Name    | Usage |\n",
        "| --------| -------| \n",
        "| int     | signed integer             |\n",
        "| long    | long integer               |\n",
        "| float   | floating point real values |\n",
        "| complex | complex numbers            |"
      ]
    },
    {
      "cell_type": "code",
      "metadata": {
        "id": "w6N_oAVmeMHO",
        "colab_type": "code",
        "colab": {}
      },
      "source": [
        "number_one = 123\n",
        "number_two = 456\n",
        "number_three = 3.141516"
      ],
      "execution_count": 0,
      "outputs": []
    },
    {
      "cell_type": "code",
      "metadata": {
        "id": "dDQMnx7ReMHR",
        "colab_type": "code",
        "colab": {},
        "outputId": "6a8a0b04-c86e-4f01-fd6d-427ea7991c02"
      },
      "source": [
        "type(number_one)"
      ],
      "execution_count": 0,
      "outputs": [
        {
          "output_type": "execute_result",
          "data": {
            "text/plain": [
              "int"
            ]
          },
          "metadata": {
            "tags": []
          },
          "execution_count": 8
        }
      ]
    },
    {
      "cell_type": "code",
      "metadata": {
        "id": "nQicIGBreMHV",
        "colab_type": "code",
        "colab": {},
        "outputId": "006b9661-fda3-444b-96e5-173146554276"
      },
      "source": [
        "print (number_two)"
      ],
      "execution_count": 0,
      "outputs": [
        {
          "output_type": "stream",
          "text": [
            "456\n"
          ],
          "name": "stdout"
        }
      ]
    },
    {
      "cell_type": "markdown",
      "metadata": {
        "id": "BFQsHBQNeMHY",
        "colab_type": "text"
      },
      "source": [
        "##### Exercise\n",
        "* Create two number variables to store a patients clinical measurements\n",
        "* BMI was 23.4\n",
        "* Height was 182cm\n",
        "* Weight was 88kg"
      ]
    },
    {
      "cell_type": "code",
      "metadata": {
        "id": "ZXU03k51eMHZ",
        "colab_type": "code",
        "colab": {}
      },
      "source": [
        "# your code"
      ],
      "execution_count": 0,
      "outputs": []
    },
    {
      "cell_type": "markdown",
      "metadata": {
        "id": "YG0pdYpXeMHb",
        "colab_type": "text"
      },
      "source": [
        "### Strings\n",
        "* String data types store sequences of characters.\n",
        "* These must be enclosed in quotes (to distinguish them from variable names).\n",
        "* You can join multiple string variables with \"+\"\n",
        "* The len() function can return the total number of characters in a string.\n",
        "* Strings also have many other [built-in functions](https://docs.python.org/2/library/stdtypes.html#string-methods) used to manipulate them."
      ]
    },
    {
      "cell_type": "code",
      "metadata": {
        "id": "itqu1QHFeMHc",
        "colab_type": "code",
        "colab": {},
        "outputId": "b24ed2d9-e0e0-4fbd-a9fa-9aa37ee1ba70"
      },
      "source": [
        "example_string = \"Hello, this is an example string. \"\n",
        "another_string = \"Hi, nice to meet you! \"\n",
        "last_example   = example_string + another_string\n",
        "print (last_example)"
      ],
      "execution_count": 0,
      "outputs": [
        {
          "output_type": "stream",
          "text": [
            "Hello, this is an example string. Hi, nice to meet you! \n"
          ],
          "name": "stdout"
        }
      ]
    },
    {
      "cell_type": "code",
      "metadata": {
        "id": "IkMgOhuBeMHf",
        "colab_type": "code",
        "colab": {},
        "outputId": "3ffbd6e6-8437-47b0-abf1-996a1f06fb3e"
      },
      "source": [
        "example_string.swapcase()"
      ],
      "execution_count": 0,
      "outputs": [
        {
          "output_type": "execute_result",
          "data": {
            "text/plain": [
              "'hELLO, THIS IS AN EXAMPLE STRING. '"
            ]
          },
          "metadata": {
            "tags": []
          },
          "execution_count": 12
        }
      ]
    },
    {
      "cell_type": "markdown",
      "metadata": {
        "id": "qM1LlqNoeMHi",
        "colab_type": "text"
      },
      "source": [
        "* Characters in strings are indexed.\n",
        "* This means the first string character element is 0, the second one is 1 etc\n",
        "* You can get the n-th string element by using the [ ] notation."
      ]
    },
    {
      "cell_type": "code",
      "metadata": {
        "id": "hlIF-NR3eMHj",
        "colab_type": "code",
        "colab": {},
        "outputId": "d12643ff-4528-455b-e554-b029a0e83b6b"
      },
      "source": [
        "nhs_number = \"123456789\"\n",
        "print (nhs_number)\n",
        "print (nhs_number[0])\n",
        "print (nhs_number[2])"
      ],
      "execution_count": 0,
      "outputs": [
        {
          "output_type": "stream",
          "text": [
            "123456789\n",
            "1\n",
            "3\n"
          ],
          "name": "stdout"
        }
      ]
    },
    {
      "cell_type": "markdown",
      "metadata": {
        "id": "1TTsdc5ceMHm",
        "colab_type": "text"
      },
      "source": [
        "##### Exercise\n",
        "* Create two variables to store a patients name. \n",
        "* One of the first name (Peter) and one for the second name (Smith).\n",
        "* Create a third variable that contains the name.\n",
        "* Count the number of letters in the full name."
      ]
    },
    {
      "cell_type": "code",
      "metadata": {
        "id": "qkSJTkDpeMHn",
        "colab_type": "code",
        "colab": {}
      },
      "source": [
        "# your code"
      ],
      "execution_count": 0,
      "outputs": []
    },
    {
      "cell_type": "markdown",
      "metadata": {
        "id": "k4vg9eR9eMHq",
        "colab_type": "text"
      },
      "source": [
        "### Lists\n",
        "* Lists are used to group together multiple values.\n",
        "* The values do not necessarilly have to be the same type.\n",
        "* Elements in lists can be added, removed or changed."
      ]
    },
    {
      "cell_type": "code",
      "metadata": {
        "id": "EOfwpC5LeMHr",
        "colab_type": "code",
        "colab": {},
        "outputId": "cac4219a-3290-4f58-fa6d-d20851db3066"
      },
      "source": [
        "example_list = [ 1, 2, 3, \"diagnosis\", \"patient_id\", \"in_patient\", 7, 9 ]\n",
        "print (example_list)"
      ],
      "execution_count": 0,
      "outputs": [
        {
          "output_type": "stream",
          "text": [
            "[1, 2, 3, 'diagnosis', 'patient_id', 'in_patient', 7, 9]\n"
          ],
          "name": "stdout"
        }
      ]
    },
    {
      "cell_type": "markdown",
      "metadata": {
        "id": "J5tJ-WHQeMH0",
        "colab_type": "text"
      },
      "source": [
        "* Elements in lists are indexed.\n",
        "* This means the first list element is 0, the second one is 1 etc\n",
        "* You can get the nth list element by using the [ ] notation."
      ]
    },
    {
      "cell_type": "code",
      "metadata": {
        "id": "jJaQdjAqeMH1",
        "colab_type": "code",
        "colab": {},
        "outputId": "09718033-737b-4702-d2d6-c875ab298cf7"
      },
      "source": [
        "print (example_list[0])\n",
        "print (example_list[5])"
      ],
      "execution_count": 0,
      "outputs": [
        {
          "output_type": "stream",
          "text": [
            "1\n",
            "in_patient\n"
          ],
          "name": "stdout"
        }
      ]
    },
    {
      "cell_type": "markdown",
      "metadata": {
        "id": "RTjtlktieMH5",
        "colab_type": "text"
      },
      "source": [
        "* Python has many useful list functions you can use.\n",
        "* Elements can be deleted with the del() function.\n",
        "* For example, we might want to delete the first element of the list."
      ]
    },
    {
      "cell_type": "code",
      "metadata": {
        "id": "8Aspbda-eMH5",
        "colab_type": "code",
        "colab": {},
        "outputId": "9d6e220f-4d6d-4fd7-dabb-e34e17a0b088"
      },
      "source": [
        "del example_list[0]\n",
        "print (example_list)"
      ],
      "execution_count": 0,
      "outputs": [
        {
          "output_type": "stream",
          "text": [
            "[2, 3, 'diagnosis', 'patient_id', 'in_patient', 7, 9]\n"
          ],
          "name": "stdout"
        }
      ]
    },
    {
      "cell_type": "markdown",
      "metadata": {
        "id": "B9imBEIYeMH8",
        "colab_type": "text"
      },
      "source": [
        "* There are several functions for manipulating list values.\n",
        "* append(y) will append value y at the end of the list\n",
        "* insert(x,y) will insert value y at location x\n",
        "* delete(x) wil delete the value at location x\n",
        "* remove(x) will remove value x\n",
        "* count(x) will count the number of times values x appears in the list"
      ]
    },
    {
      "cell_type": "code",
      "metadata": {
        "id": "sTKURyZSeMH9",
        "colab_type": "code",
        "colab": {},
        "outputId": "6e05db7f-c276-465f-b551-b0e42eaed8b4"
      },
      "source": [
        "example_list.append(10)\n",
        "print (example_list)\n",
        "example_list.insert(0, 'carcinoma')\n",
        "print (example_list)\n",
        "example_list.remove(\"carcinoma\")\n",
        "print (example_list)\n",
        "print (example_list.count(\"patient_id\"))"
      ],
      "execution_count": 0,
      "outputs": [
        {
          "output_type": "stream",
          "text": [
            "[2, 3, 'diagnosis', 'patient_id', 'in_patient', 7, 9, 10]\n",
            "['carcinoma', 2, 3, 'diagnosis', 'patient_id', 'in_patient', 7, 9, 10]\n",
            "[2, 3, 'diagnosis', 'patient_id', 'in_patient', 7, 9, 10]\n",
            "1\n"
          ],
          "name": "stdout"
        }
      ]
    },
    {
      "cell_type": "markdown",
      "metadata": {
        "id": "WusYDyxAeMH_",
        "colab_type": "text"
      },
      "source": [
        "##### Exercise\n",
        "* Create a list of a patients heart rate measurements: 89, 90, 110, 98, 120, 160, 123, 90, 1000\n",
        "* How many measurements are there?\n",
        "* Print the last heart rate measurement\n",
        "* Print the first heart rate measurement\n",
        "* Print the minimum and maximum\n",
        "* Delete the wrong measurement\n",
        "* Print the minimum and maximum again\n",
        "* Sort the values (hint, use sort()!)"
      ]
    },
    {
      "cell_type": "code",
      "metadata": {
        "id": "OBEtJdnkeMIA",
        "colab_type": "code",
        "colab": {}
      },
      "source": [
        "# your code"
      ],
      "execution_count": 0,
      "outputs": []
    },
    {
      "cell_type": "markdown",
      "metadata": {
        "id": "SMIUnlBJeMIC",
        "colab_type": "text"
      },
      "source": [
        "### Dictionaries\n",
        "* Lists are great - but hard to use to organize things\n",
        "* Python provides another data structure to organize values, the _dictionary_\n",
        "* Dictionaries store data in pairs: a key and a value\n",
        "* Dictionaries allow you to retrieve a value based on the key"
      ]
    },
    {
      "cell_type": "code",
      "metadata": {
        "id": "smXKyDd-eMID",
        "colab_type": "code",
        "colab": {},
        "outputId": "d0f29ebe-6c28-4bbd-8675-89827e32e97e"
      },
      "source": [
        "example_dictionary = { \n",
        "    \"0101010Q0\" : \"Magnesium Hydroxide\", \n",
        "    \"0101010R0\" : \"Simeticone \", \n",
        "    \"0103020P0\" : \"Pirenzepine \", \n",
        "    \"0101010S0\" : \"Calcium Carbonate & Simeticone\"} \n",
        "\n",
        "example_dictionary"
      ],
      "execution_count": 0,
      "outputs": [
        {
          "output_type": "execute_result",
          "data": {
            "text/plain": [
              "{'0101010Q0': 'Magnesium Hydroxide',\n",
              " '0101010R0': 'Simeticone ',\n",
              " '0101010S0': 'Calcium Carbonate & Simeticone',\n",
              " '0103020P0': 'Pirenzepine '}"
            ]
          },
          "metadata": {
            "tags": []
          },
          "execution_count": 20
        }
      ]
    },
    {
      "cell_type": "markdown",
      "metadata": {
        "id": "jJlpEl3seMIG",
        "colab_type": "text"
      },
      "source": [
        "* You can retrieve a value from a dictionary using the key\n",
        "* Equally, if you try and retrieve a key that does not exist you will receive an error"
      ]
    },
    {
      "cell_type": "code",
      "metadata": {
        "id": "-uOd-Gy4eMII",
        "colab_type": "code",
        "colab": {},
        "outputId": "dd668daf-0a93-43b9-e438-1bd6c3179e8d"
      },
      "source": [
        "print (example_dictionary[\"0101010R0\"])"
      ],
      "execution_count": 0,
      "outputs": [
        {
          "output_type": "stream",
          "text": [
            "Simeticone \n"
          ],
          "name": "stdout"
        }
      ]
    },
    {
      "cell_type": "code",
      "metadata": {
        "id": "upbG-ipGeMIL",
        "colab_type": "code",
        "colab": {},
        "outputId": "b928b2a6-9d5a-44ea-f293-2f80a726934f"
      },
      "source": [
        "print (example_dictionary[\"does not exist\"])"
      ],
      "execution_count": 0,
      "outputs": [
        {
          "output_type": "error",
          "ename": "KeyError",
          "evalue": "'does not exist'",
          "traceback": [
            "\u001b[1;31m---------------------------------------------------------------------------\u001b[0m",
            "\u001b[1;31mKeyError\u001b[0m                                  Traceback (most recent call last)",
            "\u001b[1;32m<ipython-input-22-e408a807c873>\u001b[0m in \u001b[0;36m<module>\u001b[1;34m()\u001b[0m\n\u001b[1;32m----> 1\u001b[1;33m \u001b[0mprint\u001b[0m \u001b[1;33m(\u001b[0m\u001b[0mexample_dictionary\u001b[0m\u001b[1;33m[\u001b[0m\u001b[1;34m\"does not exist\"\u001b[0m\u001b[1;33m]\u001b[0m\u001b[1;33m)\u001b[0m\u001b[1;33m\u001b[0m\u001b[0m\n\u001b[0m",
            "\u001b[1;31mKeyError\u001b[0m: 'does not exist'"
          ]
        }
      ]
    },
    {
      "cell_type": "markdown",
      "metadata": {
        "id": "CHKSUBVBeMIN",
        "colab_type": "text"
      },
      "source": [
        "* Dictionaries are immutable\n",
        "* You can add, and even overwrite, keys as you wish"
      ]
    },
    {
      "cell_type": "code",
      "metadata": {
        "id": "Ed7Dpli6eMIO",
        "colab_type": "code",
        "colab": {},
        "outputId": "bf6cd64d-ecc9-4f18-8835-702713d5ecaa"
      },
      "source": [
        "example_dictionary[\"0105010A0\"] = \"Aminosalicylic Acid\"\n",
        "example_dictionary"
      ],
      "execution_count": 0,
      "outputs": [
        {
          "output_type": "execute_result",
          "data": {
            "text/plain": [
              "{'0101010Q0': 'Magnesium Hydroxide',\n",
              " '0101010R0': 'Simeticone ',\n",
              " '0101010S0': 'Calcium Carbonate & Simeticone',\n",
              " '0103020P0': 'Pirenzepine ',\n",
              " '0105010A0': 'Aminosalicylic Acid'}"
            ]
          },
          "metadata": {
            "tags": []
          },
          "execution_count": 23
        }
      ]
    },
    {
      "cell_type": "code",
      "metadata": {
        "id": "qtf-QnoAeMIR",
        "colab_type": "code",
        "colab": {},
        "outputId": "1f6f43f3-ff5f-4abe-bc6e-3f20cabc00c3"
      },
      "source": [
        "example_dictionary[\"0105010A0\"] = \"Fake drug\"\n",
        "example_dictionary"
      ],
      "execution_count": 0,
      "outputs": [
        {
          "output_type": "execute_result",
          "data": {
            "text/plain": [
              "{'0101010Q0': 'Magnesium Hydroxide',\n",
              " '0101010R0': 'Simeticone ',\n",
              " '0101010S0': 'Calcium Carbonate & Simeticone',\n",
              " '0103020P0': 'Pirenzepine ',\n",
              " '0105010A0': 'Fake drug'}"
            ]
          },
          "metadata": {
            "tags": []
          },
          "execution_count": 24
        }
      ]
    },
    {
      "cell_type": "markdown",
      "metadata": {
        "id": "pDjHrC0jeMIU",
        "colab_type": "text"
      },
      "source": [
        "* You can just as easily remove elements from the dictionary\n",
        "* You can delete using the _del_ command\n",
        "* Lets delete the last entry which is wrong"
      ]
    },
    {
      "cell_type": "code",
      "metadata": {
        "id": "7uzVFM5ceMIU",
        "colab_type": "code",
        "colab": {},
        "outputId": "f5fdf938-0729-4a48-e85d-533d40782b7d"
      },
      "source": [
        "del(example_dictionary[\"0105010A0\"])\n",
        "example_dictionary"
      ],
      "execution_count": 0,
      "outputs": [
        {
          "output_type": "execute_result",
          "data": {
            "text/plain": [
              "{'0101010Q0': 'Magnesium Hydroxide',\n",
              " '0101010R0': 'Simeticone ',\n",
              " '0101010S0': 'Calcium Carbonate & Simeticone',\n",
              " '0103020P0': 'Pirenzepine '}"
            ]
          },
          "metadata": {
            "tags": []
          },
          "execution_count": 25
        }
      ]
    },
    {
      "cell_type": "markdown",
      "metadata": {
        "id": "1g-_aT-ueMIY",
        "colab_type": "text"
      },
      "source": [
        "* Dictionaries have some useful built-in functions \n",
        "* You can get a list of all the keys using _keys_\n",
        "* You can get a list of all the value using _values_"
      ]
    },
    {
      "cell_type": "code",
      "metadata": {
        "id": "ArPMjPtqeMIZ",
        "colab_type": "code",
        "colab": {},
        "outputId": "6e000cdd-87b8-4116-e910-52d911100d56"
      },
      "source": [
        "example_dictionary.keys()"
      ],
      "execution_count": 0,
      "outputs": [
        {
          "output_type": "execute_result",
          "data": {
            "text/plain": [
              "dict_keys(['0101010Q0', '0101010R0', '0103020P0', '0101010S0'])"
            ]
          },
          "metadata": {
            "tags": []
          },
          "execution_count": 26
        }
      ]
    },
    {
      "cell_type": "code",
      "metadata": {
        "id": "4nenqR7EeMId",
        "colab_type": "code",
        "colab": {},
        "outputId": "f4c2cc8c-8c3a-4896-a364-c4905283b7ac"
      },
      "source": [
        "example_dictionary.values()"
      ],
      "execution_count": 0,
      "outputs": [
        {
          "output_type": "execute_result",
          "data": {
            "text/plain": [
              "dict_values(['Magnesium Hydroxide', 'Simeticone ', 'Pirenzepine ', 'Calcium Carbonate & Simeticone'])"
            ]
          },
          "metadata": {
            "tags": []
          },
          "execution_count": 27
        }
      ]
    },
    {
      "cell_type": "markdown",
      "metadata": {
        "id": "ayaz1jh7eMIg",
        "colab_type": "text"
      },
      "source": [
        "* All keys  are unique - very helpful\n",
        "* Values can be anything ! i.e. strings, lists, numbers, etc.\n",
        "* They stretch and shrink as you see fit\n",
        "* You will use them over and over again to create lookups"
      ]
    },
    {
      "cell_type": "markdown",
      "metadata": {
        "id": "Bmxa724keMIh",
        "colab_type": "text"
      },
      "source": [
        "##### Exercise\n",
        "\n",
        "* Create a dictionary of lists for the following data\n",
        "* A patient can have 1 to 5 heart rate measurements\n",
        "\n",
        "| patid | HR1 | HR2 | HR3 | HR4 | HR5 |\n",
        "| ----- | --- | ----| ----| ----| ----|\n",
        "| 1001| 95 | 123 | 110 | 90 | 100 | \n",
        "| 1002 | 110 | 150 | 160 | 87 | |\n",
        "| 1003 | 120 | 120 |  | 200 | | |\n",
        "\n",
        "* Print all the patients in the dictionary\n",
        "* Get all measurements for patient 1003\n",
        "* Delete all measurements for patient 1001"
      ]
    },
    {
      "cell_type": "code",
      "metadata": {
        "id": "4bsFwLX6eMIi",
        "colab_type": "code",
        "colab": {}
      },
      "source": [
        "# your code"
      ],
      "execution_count": 0,
      "outputs": []
    },
    {
      "cell_type": "code",
      "metadata": {
        "id": "dNH3qnhHeMIl",
        "colab_type": "code",
        "colab": {},
        "outputId": "0ee9cc1c-bd83-4b38-e67d-b23622671bc6"
      },
      "source": [
        "hr[\"1003\"]"
      ],
      "execution_count": 0,
      "outputs": [
        {
          "output_type": "execute_result",
          "data": {
            "text/plain": [
              "[120, 120, 200]"
            ]
          },
          "metadata": {
            "tags": []
          },
          "execution_count": 29
        }
      ]
    },
    {
      "cell_type": "code",
      "metadata": {
        "id": "hp1j01mgeMIs",
        "colab_type": "code",
        "colab": {},
        "outputId": "53923be9-acc1-4bc1-e273-597a2d797f99"
      },
      "source": [
        "print (\"We have data for the following patients:\", hr.keys())"
      ],
      "execution_count": 0,
      "outputs": [
        {
          "output_type": "stream",
          "text": [
            "We have data for the following patients: dict_keys(['1001', '1002', '1003'])\n"
          ],
          "name": "stdout"
        }
      ]
    },
    {
      "cell_type": "code",
      "metadata": {
        "id": "04sPWpymeMIv",
        "colab_type": "code",
        "colab": {},
        "outputId": "f9a3e646-f3c3-460f-802c-6c118a95ab6f"
      },
      "source": [
        "del hr[\"1001\"]\n",
        "hr"
      ],
      "execution_count": 0,
      "outputs": [
        {
          "output_type": "execute_result",
          "data": {
            "text/plain": [
              "{'1002': [110, 150, 160, 87], '1003': [120, 120, 200]}"
            ]
          },
          "metadata": {
            "tags": []
          },
          "execution_count": 31
        }
      ]
    },
    {
      "cell_type": "markdown",
      "metadata": {
        "id": "BleY3-HceMIx",
        "colab_type": "text"
      },
      "source": [
        "# Resources\n",
        "\n",
        "* [Python official documentation](https://docs.python.org/2/)\n",
        "* [Python wiki guide for befinners](https://wiki.python.org/moin/BeginnersGuide/NonProgrammers)\n",
        "* [Stack overflow](https://stackoverflow.com/)\n",
        "* [Learn Python The Hard Way](http://learnpythonthehardway.org/book/index.html)\n",
        "* [Pandas quick start guide](http://pandas.pydata.org/pandas-docs/stable/10min.html)"
      ]
    }
  ]
}