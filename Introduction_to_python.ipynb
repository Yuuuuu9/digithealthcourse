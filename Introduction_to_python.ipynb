{
  "nbformat": 4,
  "nbformat_minor": 0,
  "metadata": {
    "kernelspec": {
      "display_name": "Python 3",
      "language": "python",
      "name": "python3"
    },
    "language_info": {
      "codemirror_mode": {
        "name": "ipython",
        "version": 3
      },
      "file_extension": ".py",
      "mimetype": "text/x-python",
      "name": "python",
      "nbconvert_exporter": "python",
      "pygments_lexer": "ipython3",
      "version": "3.7.3"
    },
    "colab": {
      "name": "Session1_solutions.ipynb",
      "provenance": [],
      "include_colab_link": true
    }
  },
  "cells": [
    {
      "cell_type": "markdown",
      "metadata": {
        "colab_type": "text",
        "id": "view-in-github"
      },
      "outputs": [],
      "source": [
        "<a href=\"https://colab.research.google.com/github/niuguy/digithealthcourse/blob/master/Introduction_to_python.ipynb\" target=\"_parent\"><img src=\"https://colab.research.google.com/assets/colab-badge.svg\" alt=\"Open In Colab\"/></a>"
      ]
    },
    {
      "cell_type": "markdown",
      "metadata": {
        "colab_type": "text",
        "id": "8lLNUa5mK5ej"
      },
      "outputs": [],
      "source": [
        "# Introduction to Python\n"
      ]
    },
    {
      "cell_type": "markdown",
      "metadata": {
        "colab_type": "text",
        "id": "FGqlzafAK5eq"
      },
      "outputs": [],
      "source": [
        "**Structure of this session**\n",
        "\n",
        "* First Step\n",
        "* Variables\n",
        "  * Numeric, string\n",
        "* Expressions and operators\n",
        "* Data types\n",
        "  * Lists\n",
        "  * Dictionaries\n",
        "* Control flow\n",
        "  * If\n",
        "  * While\n",
        "  * For\n",
        "* Function"
      ]
    },
    {
      "cell_type": "markdown",
      "metadata": {
        "colab_type": "text",
        "id": "hYAiMfHoK5e0"
      },
      "outputs": [],
      "source": [
        "# First Step"
      ]
    },
    {
      "cell_type": "code",
      "metadata": {
        "colab_type": "text",
        "id": "-EgIUJANK5e0"
      },
      "outputs": [],
      "source": [
        "The print function allows you to print values on the screen.\n"
      ]
    },
    {
      "cell_type": "code",
      "metadata": {
        "colab": {},
        "colab_type": "code",
        "id": "qZvjPpOQK5e2",
        "outputId": "95c1be5d-eb12-46aa-cbab-4c7390054c57"
      },
      "outputs": [],
      "source": [
        "print (\"Hello, world\")"
      ]
    },
    {
      "cell_type": "markdown",
      "metadata": {
        "colab_type": "text",
        "id": "HvkZV7dIK5e_"
      },
      "outputs": [],
      "source": [
        "## Variables\n",
        "* Variables are how values are stored in a Python programme\n",
        "* Each variable has a unique name\n",
        "* A variable can support multiple data types\n",
        "  * i.e. it can hold a string, a number or a date (more detail below)\n",
        "* You assign a value using the _=_ operator\n",
        "* Variables in Python are _strongly, dynamically typed_\n",
        "  * The data type of a variable does not magically change\n",
        "  * A string will not become a number\n",
        "  * You are not allowed to do operations that are incompatible with the variable data type"
      ]
    },
    {
      "cell_type": "code",
      "metadata": {
        "colab": {},
        "colab_type": "code",
        "id": "m7fG4Z0NK5fA",
        "outputId": "8ebb6873-4f33-4050-ff29-476859076e22"
      },
      "outputs": [],
      "source": [
        "name = \"PeterRabbit\"\n",
        "type(name)"
      ]
    },
    {
      "cell_type": "code",
      "metadata": {
        "colab": {},
        "colab_type": "code",
        "id": "7ZXq9dfHK5fD",
        "outputId": "b2ebcbe8-7d10-4686-934e-341cc5b3c531"
      },
      "outputs": [],
      "source": [
        "patient_hr=103\n",
        "type(patient_hr)"
      ]
    },
    {
      "cell_type": "markdown",
      "metadata": {
        "colab_type": "text",
        "id": "RSIT1lnjK5fG"
      },
      "outputs": [],
      "source": [
        "## Expressions and operators\n",
        "* Python scripts are essentially a collection of variables and operators\n",
        "* Operators manipulate variables or combine them, forming expressions\n",
        "\n",
        "```Python\n",
        "name = \"Spiros\"\n",
        "```\n",
        "\n",
        "* The operator is _=_\n",
        "* The variable is _name_\n",
        "\n",
        "```Python\n",
        "kg = 85\n",
        "grams = kg * 1000\n",
        "```\n",
        "* The operators are _=_ and _*_\n",
        "* The variables are _kg_ and _grams_\n"
      ]
    },
    {
      "cell_type": "markdown",
      "metadata": {
        "colab_type": "text",
        "id": "YfC7_S9-K5fI"
      },
      "outputs": [],
      "source": [
        "##  Arithmetic operators\n",
        "\n",
        "Arithmetic operatora turn your computer into a (very) expensive calculator\n",
        "\n",
        "\n",
        "| Operator | Description | Example | Result |\n",
        "|----------| ----------- | ------- | ------ |\n",
        "| +  | addition           | 2+2  | 4   | \n",
        "| -  | subtraction        | 2-1  | 1   |\n",
        "| /  | division           | 3/2  | 1.5 |\n",
        "| // | division (integer) | 3//2 | 1   | \n",
        "| *  | multiplication     | 5\\*2 | 10  | \n",
        "| %  | modulus            | 7%3  | 1   |\n",
        "| \\*\\* | exponentiation | 2\\*\\*2 | 4 | "
      ]
    },
    {
      "cell_type": "markdown",
      "metadata": {
        "colab_type": "text",
        "id": "2YdtNBfRRW1z"
      },
      "outputs": [],
      "source": [
        "\n"
      ]
    },
    {
      "cell_type": "code",
      "metadata": {},
      "outputs": [],
      "source": [
        "x = 120\n",
        "y = 80\n",
        "z = x - y "
      ]
    },
    {
      "cell_type": "code",
      "metadata": {},
      "outputs": [],
      "source": [
        "z"
      ]
    },
    {
      "cell_type": "markdown",
      "metadata": {
        "colab_type": "text",
        "id": "eq4-BqH6K5fP"
      },
      "outputs": [],
      "source": [
        "##  Comparison (aka relational) operators\n",
        "\n",
        "* Comparison operators compare two values and decide the relation among them\n",
        "* They return _true_ if a condition is met and _false_ if its not\n",
        "\n",
        "| Operator | Description | Example | Result |\n",
        "|----------| ----------- | ------- | ------ |\n",
        "| == | true if values are equal     | 2==2  | true  | \n",
        "| != | true if values are not equal | 2!=1  | true  |\n",
        "| >  | greater than                 | 100>2 | true  |\n",
        "| <  | less than                    | 2<-1  | false | \n",
        "| >= | greater than or equal        | 5>=5  | true  | \n",
        "| <= | less than or equal           | 8<=2  | false  |"
      ]
    },
    {
      "cell_type": "code",
      "metadata": {},
      "outputs": [],
      "source": [
        "x < y"
      ]
    },
    {
      "cell_type": "markdown",
      "metadata": {
        "colab_type": "text",
        "id": "7UFlf4MzK5fU"
      },
      "outputs": [],
      "source": [
        "##  Logic operators\n",
        "\n",
        "* Logic operators combine expressions into larger expressions\n",
        "* They work similarly to comparison operators\n",
        "* They return _true_ if a condition is met and _false_ if its not\n",
        "\n",
        "| Operator | Description | Example | Result |\n",
        "|----------| ----------- | ------- | ------ |\n",
        "| and | check if both conditions are true      | 2>1 and 3>4 | false  | \n",
        "| or  | check if either condition is true | 2 < 3 or 1>8  | true  |\n",
        "| xor (^) | check if *only* one condition is true | 4 < 3 xor 3 < 2 | false |"
      ]
    },
    {
      "cell_type": "markdown",
      "metadata": {
        "colab_type": "text",
        "id": "HFWtVnRAK5fV"
      },
      "outputs": [],
      "source": [
        "##### Exercise\n",
        "* Type the examples above\n",
        "* Using the blood pressure example above, check if a patients systolic blood pressure and diastolic blood pressure are both more than 0"
      ]
    },
    {
      "cell_type": "code",
      "metadata": {
        "colab": {},
        "colab_type": "code",
        "id": "Sn6E7YW-K5fX",
        "outputId": "58bf3afb-7e00-480c-b86d-2b4d54909f90"
      },
      "outputs": [],
      "source": [
        "sys_bp>0 and dias_bp>0"
      ]
    },
    {
      "cell_type": "markdown",
      "metadata": {
        "colab_type": "text",
        "id": "UPfBdONEK5fa"
      },
      "outputs": [],
      "source": [
        "## Data types"
      ]
    },
    {
      "cell_type": "markdown",
      "metadata": {
        "colab_type": "text",
        "id": "iiPsJt71K5fb"
      },
      "outputs": [],
      "source": [
        "### Numbers\n",
        "* Number data types store numeric values.\n",
        "* Number objects are created when you assign a value to them.\n",
        "* Python supports four different numerical data types.\n",
        "\n",
        "| Name    | Usage |\n",
        "| --------| -------| \n",
        "| int     | signed integer             |\n",
        "| long    | long integer               |\n",
        "| float   | floating point real values |\n",
        "| complex | complex numbers            |"
      ]
    },
    {
      "cell_type": "code",
      "metadata": {
        "colab": {},
        "colab_type": "code",
        "id": "i2AmYuk6K5fc"
      },
      "outputs": [],
      "source": [
        "number_one = 123\n",
        "number_two = 456\n",
        "number_three = 3.141516"
      ]
    },
    {
      "cell_type": "code",
      "metadata": {
        "colab": {},
        "colab_type": "code",
        "id": "rPvzc0qWK5ff",
        "outputId": "be717ab1-272a-492d-ecba-daca4f2ee38b"
      },
      "outputs": [],
      "source": [
        "type(number_one)"
      ]
    },
    {
      "cell_type": "code",
      "metadata": {
        "colab": {},
        "colab_type": "code",
        "id": "Eaaf2YJpK5fj",
        "outputId": "af2cfb7c-3f1b-4582-f91a-52f52d4fdfbe"
      },
      "outputs": [],
      "source": [
        "print (number_two)"
      ]
    },
    {
      "cell_type": "markdown",
      "metadata": {
        "colab_type": "text",
        "id": "4J-5gNDvK5fr"
      },
      "outputs": [],
      "source": [
        "### Strings\n",
        "* String data types store sequences of characters.\n",
        "* These must be enclosed in quotes (to distinguish them from variable names).\n",
        "* You can join multiple string variables with \"+\"\n",
        "* The len() function can return the total number of characters in a string.\n",
        "* Strings also have many other [built-in functions](https://docs.python.org/2/library/stdtypes.html#string-methods) used to manipulate them."
      ]
    },
    {
      "cell_type": "code",
      "metadata": {
        "colab": {},
        "colab_type": "code",
        "id": "qarxVtk5K5fr",
        "outputId": "ddcb380e-8406-4a82-968c-debad2cd3b7d"
      },
      "outputs": [],
      "source": [
        "example_string = \"Hello, this is an example string. \"\n",
        "another_string = \"Hi, nice to meet you! \"\n",
        "last_example   = example_string + another_string\n",
        "print (last_example)"
      ]
    },
    {
      "cell_type": "code",
      "metadata": {
        "colab": {},
        "colab_type": "code",
        "id": "gUHDR91KK5fv",
        "outputId": "e18f94f4-e00a-4a49-ac30-2cf4fa869687"
      },
      "outputs": [],
      "source": [
        "example_string.swapcase()"
      ]
    },
    {
      "cell_type": "markdown",
      "metadata": {
        "colab_type": "text",
        "id": "wZexlk_zK5fy"
      },
      "outputs": [],
      "source": [
        "* Characters in strings are indexed.\n",
        "* This means the first string character element is 0, the second one is 1 etc\n",
        "* You can get the n-th string element by using the [ ] notation."
      ]
    },
    {
      "cell_type": "code",
      "metadata": {
        "colab": {},
        "colab_type": "code",
        "id": "ewFNuScwK5fz",
        "outputId": "ea760dad-dacc-4bb5-efe6-561b4b7ca46b"
      },
      "outputs": [],
      "source": [
        "nhs_number = \"123456789\"\n",
        "print (nhs_number)\n",
        "print (nhs_number[0])\n",
        "print (nhs_number[2])"
      ]
    },
    {
      "cell_type": "markdown",
      "metadata": {
        "colab_type": "text",
        "id": "0o7J1yLhK5f8"
      },
      "outputs": [],
      "source": [
        "### Lists\n",
        "* Lists are used to group together multiple values.\n",
        "* The values do not necessarilly have to be the same type.\n",
        "* Elements in lists can be added, removed or changed."
      ]
    },
    {
      "cell_type": "code",
      "metadata": {
        "colab": {},
        "colab_type": "code",
        "id": "1TszQVMtK5f9",
        "outputId": "6b4301d8-3774-4509-add3-686d56e1eb66"
      },
      "outputs": [],
      "source": [
        "example_list = [ 1, 2, 3, \"diagnosis\", \"patient_id\", \"in_patient\", 7, 9 ]\n",
        "print (example_list)"
      ]
    },
    {
      "cell_type": "markdown",
      "metadata": {
        "colab_type": "text",
        "id": "D4R23U8kK5gA"
      },
      "outputs": [],
      "source": [
        "* Elements in lists are indexed.\n",
        "* This means the first list element is 0, the second one is 1 etc\n",
        "* You can get the nth list element by using the [ ] notation."
      ]
    },
    {
      "cell_type": "code",
      "metadata": {
        "colab": {},
        "colab_type": "code",
        "id": "CYn5l-ANK5gA",
        "outputId": "7bd4392a-3c8e-4416-8c3f-4c1d060caf9f"
      },
      "outputs": [],
      "source": [
        "print (example_list[0])\n",
        "print (example_list[5])"
      ]
    },
    {
      "cell_type": "markdown",
      "metadata": {
        "colab_type": "text",
        "id": "UFgoQw5DK5gE"
      },
      "outputs": [],
      "source": [
        "* Python has many useful list functions you can use.\n",
        "* Elements can be deleted with the del() function.\n",
        "* For example, we might want to delete the first element of the list."
      ]
    },
    {
      "cell_type": "code",
      "metadata": {
        "colab": {},
        "colab_type": "code",
        "id": "0ieEU6VTK5gK",
        "outputId": "ed0a6330-7502-4fb4-adb7-f90685c61bd5"
      },
      "outputs": [],
      "source": [
        "del example_list[0]\n",
        "print (example_list)"
      ]
    },
    {
      "cell_type": "markdown",
      "metadata": {
        "colab_type": "text",
        "id": "mDjqfatHK5gN"
      },
      "outputs": [],
      "source": [
        "* There are several functions for manipulating list values.\n",
        "* append(y) will append value y at the end of the list\n",
        "* insert(x,y) will insert value y at location x\n",
        "* delete(x) wil delete the value at location x\n",
        "* remove(x) will remove value x\n",
        "* count(x) will count the number of times values x appears in the list"
      ]
    },
    {
      "cell_type": "code",
      "metadata": {
        "colab": {},
        "colab_type": "code",
        "id": "b-CvPb2jK5gO",
        "outputId": "0acc16e4-51ce-429b-aa43-3b79ffe3dace"
      },
      "outputs": [],
      "source": [
        "example_list.append(10)\n",
        "print (example_list)\n",
        "example_list.insert(0, 'carcinoma')\n",
        "print (example_list)\n",
        "example_list.remove(\"carcinoma\")\n",
        "print (example_list)\n",
        "print (example_list.count(\"patient_id\"))"
      ]
    },
    {
      "cell_type": "markdown",
      "metadata": {
        "colab_type": "text",
        "id": "e6iZZT5LK5gU"
      },
      "outputs": [],
      "source": [
        "### Dictionaries\n",
        "* Lists are great - but hard to use to organize things\n",
        "* Python provides another data structure to organize values, the _dictionary_\n",
        "* Dictionaries store data in pairs: a key and a value\n",
        "* Dictionaries allow you to retrieve a value based on the key"
      ]
    },
    {
      "cell_type": "code",
      "metadata": {
        "colab": {},
        "colab_type": "code",
        "id": "Egoz8IxxK5gV",
        "outputId": "6dc8173f-8dab-4982-df47-00af5a726a85"
      },
      "outputs": [],
      "source": [
        "example_dictionary = { \n",
        "    \"0101010Q0\" : \"Magnesium Hydroxide\", \n",
        "    \"0101010R0\" : \"Simeticone \", \n",
        "    \"0103020P0\" : \"Pirenzepine \", \n",
        "    \"0101010S0\" : \"Calcium Carbonate & Simeticone\"} \n",
        "\n",
        "example_dictionary"
      ]
    },
    {
      "cell_type": "markdown",
      "metadata": {
        "colab_type": "text",
        "id": "e5fVOKO6K5gY"
      },
      "outputs": [],
      "source": [
        "* You can retrieve a value from a dictionary using the key\n",
        "* Equally, if you try and retrieve a key that does not exist you will receive an error"
      ]
    },
    {
      "cell_type": "code",
      "metadata": {
        "colab": {},
        "colab_type": "code",
        "id": "DaYY80UbK5gZ",
        "outputId": "a326d4b2-4173-4a33-b860-cf98733765f8"
      },
      "outputs": [],
      "source": [
        "print (example_dictionary[\"0101010R0\"])"
      ]
    },
    {
      "cell_type": "code",
      "metadata": {
        "colab": {},
        "colab_type": "code",
        "id": "V76OCmQwK5gd",
        "outputId": "e21af72a-d43f-4a3e-9d97-663358024788"
      },
      "outputs": [],
      "source": [
        "print (example_dictionary[\"does not exist\"])"
      ]
    },
    {
      "cell_type": "markdown",
      "metadata": {
        "colab_type": "text",
        "id": "EC34hv7xK5gf"
      },
      "outputs": [],
      "source": [
        "* Dictionaries are immutable\n",
        "* You can add, and even overwrite, keys as you wish"
      ]
    },
    {
      "cell_type": "code",
      "metadata": {
        "colab": {},
        "colab_type": "code",
        "id": "DnFKEFbOK5gf",
        "outputId": "f3e54ba7-f958-4da6-a3c5-cdb18a346cb7"
      },
      "outputs": [],
      "source": [
        "example_dictionary[\"0105010A0\"] = \"Aminosalicylic Acid\"\n",
        "example_dictionary"
      ]
    },
    {
      "cell_type": "code",
      "metadata": {
        "colab": {},
        "colab_type": "code",
        "id": "Q5ar0UqYK5gh",
        "outputId": "293b8e99-8efa-49e2-d2ac-b2e70856e886"
      },
      "outputs": [],
      "source": [
        "example_dictionary[\"0105010A0\"] = \"Fake drug\"\n",
        "example_dictionary"
      ]
    },
    {
      "cell_type": "markdown",
      "metadata": {
        "colab_type": "text",
        "id": "r0AgzL5BK5gl"
      },
      "outputs": [],
      "source": [
        "* You can just as easily remove elements from the dictionary\n",
        "* You can delete using the _del_ command\n",
        "* Lets delete the last entry which is wrong"
      ]
    },
    {
      "cell_type": "code",
      "metadata": {
        "colab": {},
        "colab_type": "code",
        "id": "FxAd1w4XK5gm",
        "outputId": "ab4c2e23-e407-45cb-c845-d090f95adf91"
      },
      "outputs": [],
      "source": [
        "del(example_dictionary[\"0105010A0\"])\n",
        "example_dictionary"
      ]
    },
    {
      "cell_type": "markdown",
      "metadata": {
        "colab_type": "text",
        "id": "7dWxWoGVK5go"
      },
      "outputs": [],
      "source": [
        "* Dictionaries have some useful built-in functions \n",
        "* You can get a list of all the keys using _keys_\n",
        "* You can get a list of all the value using _values_"
      ]
    },
    {
      "cell_type": "code",
      "metadata": {
        "colab": {},
        "colab_type": "code",
        "id": "BuUR9KQBK5go",
        "outputId": "fe5e8c94-0cdd-442a-f051-a42a165674a7"
      },
      "outputs": [],
      "source": [
        "example_dictionary.keys()"
      ]
    },
    {
      "cell_type": "code",
      "metadata": {
        "colab": {},
        "colab_type": "code",
        "id": "wRUQO4s5K5gq",
        "outputId": "2557225d-6830-46b9-99ab-2c0727ccea99"
      },
      "outputs": [],
      "source": [
        "example_dictionary.values()"
      ]
    },
    {
      "cell_type": "markdown",
      "metadata": {
        "colab_type": "text",
        "id": "QQDG0fndK5gs"
      },
      "outputs": [],
      "source": [
        "* All keys  are unique - very helpful\n",
        "* Values can be anything ! i.e. strings, lists, numbers, etc.\n",
        "* They stretch and shrink as you see fit\n",
        "* You will use them over and over again to create lookups"
      ]
    },
    {
      "cell_type": "markdown",
      "metadata": {},
      "outputs": [],
      "source": [
        "## Control Flow"
      ]
    },
    {
      "cell_type": "markdown",
      "metadata": {},
      "outputs": [],
      "source": [
        "### If statements\n",
        "\n",
        "*if* ... *elif* ... *else*\n"
      ]
    },
    {
      "cell_type": "code",
      "metadata": {},
      "outputs": [],
      "source": [
        "x = 5\n",
        "if x < 0:\n",
        "    x = 0\n",
        "    print('Negative changed to zero')\n",
        "elif x==0:\n",
        "    print('Zero')\n",
        "else:\n",
        "    print('Positive')\n",
        "    "
      ]
    },
    {
      "cell_type": "markdown",
      "metadata": {},
      "outputs": [],
      "source": [
        "* There can be zero or more elif parts \n",
        "* the else part is optional\n",
        "* The keyword ‘elif’ is short for ‘else if’"
      ]
    },
    {
      "cell_type": "markdown",
      "metadata": {},
      "outputs": [],
      "source": [
        "### Loops \n",
        "\n",
        "* While\n",
        "* For"
      ]
    },
    {
      "cell_type": "markdown",
      "metadata": {},
      "outputs": [],
      "source": [
        "### While statement\n",
        "The while loop executes as long as the condition remains true"
      ]
    },
    {
      "cell_type": "code",
      "metadata": {},
      "outputs": [],
      "source": [
        "a = 1\n",
        "while a<10:\n",
        "    a = a + 1\n",
        "print(a)"
      ]
    },
    {
      "cell_type": "markdown",
      "metadata": {},
      "outputs": [],
      "source": [
        "### For statement\n",
        "Python’s for statement iterates over the items of any sequence (a list or a string), in the order that they appear in the sequence\n"
      ]
    },
    {
      "cell_type": "code",
      "metadata": {},
      "outputs": [],
      "source": [
        "words = ['cat', 'window', 'dog']\n",
        "for w in words:\n",
        "    print(w, len(w))"
      ]
    },
    {
      "cell_type": "markdown",
      "metadata": {
        "colab_type": "text",
        "id": "UWo0lO2iRsiv"
      },
      "outputs": [],
      "source": [
        "## Functions\n"
      ]
    },
    {
      "cell_type": "markdown",
      "metadata": {
        "colab_type": "text",
        "id": "-DkPr3b_ShKZ"
      },
      "outputs": [],
      "source": [
        "* A function is a block of code which only runs when it is called.\n",
        "\n",
        "* You can pass data, known as parameters, into a function.\n",
        "\n",
        "* A function can return data as a result."
      ]
    },
    {
      "cell_type": "code",
      "metadata": {
        "colab": {
          "base_uri": "https://localhost:8080/",
          "height": 34
        },
        "colab_type": "code",
        "id": "dy_pkOHZSK2V",
        "outputId": "d09e5191-7108-4ff9-af69-5dc8c051bc53"
      },
      "outputs": [],
      "source": [
        "### a function that calculates the BMI\n",
        "def bmi_calc(height, weight):\n",
        "    bmi = weight / (height*height)\n",
        "    return bmi\n",
        "\n",
        "patient_bm = bmi_calc(1.79, 80)\n",
        "print (\"The patient's BMI is: \", patient_bm)"
      ]
    },
    {
      "cell_type": "markdown",
      "metadata": {
        "colab": {},
        "colab_type": "code",
        "id": "_-VYlyLtSQ_7"
      },
      "outputs": [],
      "source": [
        "### The Range() function\n",
        "\n",
        "If you do need to iterate over a sequence of numbers, the built-in function range() comes in handy. It\n",
        "generates arithmetic progressions:"
      ]
    },
    {
      "cell_type": "code",
      "metadata": {},
      "outputs": [],
      "source": [
        "range(5)"
      ]
    },
    {
      "cell_type": "code",
      "metadata": {},
      "outputs": [],
      "source": [
        "for i in range(5):\n",
        "    print(i)"
      ]
    },
    {
      "cell_type": "markdown",
      "metadata": {},
      "outputs": [],
      "source": [
        "To iterate over the indices of a sequence, you can combine range() and len() as follows:"
      ]
    },
    {
      "cell_type": "code",
      "metadata": {},
      "outputs": [],
      "source": [
        "a = ['Mary', 'had', 'a', 'little', 'lamb']\n",
        "for i in range(len(a)):\n",
        "    print(i, a[i])"
      ]
    }
  ]
}