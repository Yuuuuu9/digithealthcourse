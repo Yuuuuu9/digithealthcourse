{
 "cells": [
  {
   "cell_type": "markdown",
   "metadata": {},
   "source": [
    "# Numpy and Pandas"
   ]
  },
  {
   "cell_type": "markdown",
   "execution_count": null,
   "metadata": {},
   "outputs": [],
   "source": [
    "## Numpy"
   ]
  },
  {
   "cell_type": "markdown",
   "execution_count": null,
   "metadata": {},
   "outputs": [],
   "source": [
    "NumPy, short for Numerical Python, is the fundamental package required for high performance scientific computing and data analysis."
   ]
  },
  {
   "cell_type": "markdown",
   "execution_count": null,
   "metadata": {},
   "outputs": [],
   "source": [
    "Why Numpy?\n",
    "\n",
    "* Fast vectorized array operations for data munging and cleaning, subsetting and filtering, transformation, and any other kinds of computations\n",
    "* Common array algorithms like sorting, unique, and set operations\n",
    "* Efficient descriptive statistics and aggregating/summarizing data\n",
    "* Data alignment and relational data manipulations for merging and joining together heterogeneous data sets\n",
    "* Expressing conditional logic as array expressions instead of loops with if-elif- else branches\n",
    "* Group-wise data manipulations (aggregation, transformation, function applica- tion)\n"
   ]
  },
  {
   "cell_type": "code",
   "execution_count": 2,
   "metadata": {},
   "outputs": [],
   "source": [
    "import numpy as np"
   ]
  },
  {
   "cell_type": "markdown",
   "execution_count": null,
   "metadata": {},
   "outputs": [],
   "source": [
    "## ndarray"
   ]
  },
  {
   "cell_type": "code",
   "execution_count": 3,
   "metadata": {},
   "outputs": [],
   "source": [
    "data1 = [6, 7.5, 8, 0, 1]\n",
    "arr1 = np.array(data1)"
   ]
  },
  {
   "cell_type": "code",
   "execution_count": 4,
   "metadata": {},
   "outputs": [
    {
     "data": {
      "text/plain": "(5,)"
     },
     "execution_count": 4,
     "metadata": {},
     "output_type": "execute_result"
    }
   ],
   "source": [
    "arr1.shape"
   ]
  },
  {
   "cell_type": "code",
   "execution_count": 5,
   "metadata": {},
   "outputs": [
    {
     "data": {
      "text/plain": "dtype('float64')"
     },
     "execution_count": 5,
     "metadata": {},
     "output_type": "execute_result"
    }
   ],
   "source": [
    "arr1.dtype"
   ]
  },
  {
   "cell_type": "code",
   "execution_count": 6,
   "metadata": {},
   "outputs": [
    {
     "data": {
      "text/plain": "array([0., 0., 0., 0., 0., 0., 0., 0., 0., 0.])"
     },
     "execution_count": 6,
     "metadata": {},
     "output_type": "execute_result"
    }
   ],
   "source": [
    "np.zeros(10)"
   ]
  },
  {
   "cell_type": "code",
   "execution_count": null,
   "metadata": {},
   "outputs": [],
   "source": [
    "np.empty((1,2,3\n",
    "))"
   ]
  },
  {
   "cell_type": "markdown",
   "metadata": {},
   "source": [
    "As you expect it from Python: \n",
    "* `[idx]`\n",
    "* `[begin:end:stepsize]`\n",
    "  * Default values\n",
    "    * begin = 0\n",
    "    * end = last element\n",
    "    * stepsize = 1\n",
    "    * colons are optional\n",
    "* Negativ indizes are counted from the last element.\n",
    "  * `-i` is the short form of  `n - i` with `n` begin the number of elements in the array "
   ]
  },
  {
   "cell_type": "code",
   "execution_count": 2,
   "metadata": {},
   "outputs": [
    {
     "data": {
      "text/plain": [
       "array([[-0.40038669,  1.11829379, -1.07499997, -0.20100177,  1.24745862],\n",
       "       [-0.65041872,  1.03785775, -0.91727384,  1.84144098,  0.57501708],\n",
       "       [-0.98545769, -1.35682004, -0.61046597,  1.43044743,  0.14167787]])"
      ]
     },
     "execution_count": 2,
     "metadata": {},
     "output_type": "execute_result"
    }
   ],
   "source": [
    "X = np.random.randn(3, 5)\n",
    "X"
   ]
  },
  {
   "cell_type": "markdown",
   "metadata": {},
   "source": [
    "Looks like a list of lists. And indeed, if we use a single index into the array, we will obtain rows:"
   ]
  },
  {
   "cell_type": "code",
   "execution_count": 3,
   "metadata": {},
   "outputs": [
    {
     "data": {
      "text/plain": [
       "array([-0.40038669,  1.11829379, -1.07499997, -0.20100177,  1.24745862])"
      ]
     },
     "execution_count": 3,
     "metadata": {},
     "output_type": "execute_result"
    }
   ],
   "source": [
    "X[0]"
   ]
  },
  {
   "cell_type": "code",
   "execution_count": 4,
   "metadata": {},
   "outputs": [
    {
     "data": {
      "text/plain": [
       "1.118293792421547"
      ]
     },
     "execution_count": 4,
     "metadata": {},
     "output_type": "execute_result"
    }
   ],
   "source": [
    "X[0, 1]"
   ]
  },
  {
   "cell_type": "code",
   "execution_count": 5,
   "metadata": {},
   "outputs": [
    {
     "data": {
      "text/plain": [
       "array([-0.40038669,  1.11829379])"
      ]
     },
     "execution_count": 5,
     "metadata": {},
     "output_type": "execute_result"
    }
   ],
   "source": [
    "X[0, 0:2]"
   ]
  },
  {
   "cell_type": "code",
   "execution_count": 6,
   "metadata": {},
   "outputs": [
    {
     "data": {
      "text/plain": [
       "array([-0.40038669,  1.11829379, -1.07499997, -0.20100177,  1.24745862])"
      ]
     },
     "execution_count": 6,
     "metadata": {},
     "output_type": "execute_result"
    }
   ],
   "source": [
    "X[0, :]"
   ]
  },
  {
   "cell_type": "code",
   "execution_count": 7,
   "metadata": {},
   "outputs": [
    {
     "data": {
      "text/plain": [
       "array([-0.98545769, -1.35682004, -0.61046597,  1.43044743,  0.14167787])"
      ]
     },
     "execution_count": 7,
     "metadata": {},
     "output_type": "execute_result"
    }
   ],
   "source": [
    "X[-1, :]"
   ]
  },
  {
   "cell_type": "markdown",
   "metadata": {},
   "source": [
    "## Boolean Indexing"
   ]
  },
  {
   "cell_type": "markdown",
   "metadata": {},
   "source": [
    "**Boolean indexing** allows you to select data subsets of an array that satisfy a given condition.\n",
    "\n",
    "**Boolean Index Mask** defines a boolean numpy array of type `bool` where an element is selected (True) or not (False) depending on the value of the index mask at the position each element"
   ]
  },
  {
   "cell_type": "code",
   "execution_count": 8,
   "metadata": {},
   "outputs": [
    {
     "data": {
      "text/plain": [
       "array([10])"
      ]
     },
     "execution_count": 8,
     "metadata": {},
     "output_type": "execute_result"
    }
   ],
   "source": [
    "#simple example\n",
    "arr = np.array([10, 20])\n",
    "idx = np.array([True, False])\n",
    "arr[idx]"
   ]
  },
  {
   "cell_type": "code",
   "execution_count": 9,
   "metadata": {},
   "outputs": [
    {
     "data": {
      "text/plain": [
       "array([ 1.10493847, -0.17036643,  0.376578  ,  2.38746806, -0.04587725])"
      ]
     },
     "execution_count": 9,
     "metadata": {},
     "output_type": "execute_result"
    }
   ],
   "source": [
    "#creating test data\n",
    "arr_2d = np.random.randn(5)\n",
    "arr_2d"
   ]
  },
  {
   "cell_type": "code",
   "execution_count": 10,
   "metadata": {},
   "outputs": [
    {
     "data": {
      "text/plain": [
       "array([False,  True, False, False,  True])"
      ]
     },
     "execution_count": 10,
     "metadata": {},
     "output_type": "execute_result"
    }
   ],
   "source": [
    "#getting a boolean index array\n",
    "arr_2d < 0"
   ]
  },
  {
   "cell_type": "code",
   "execution_count": 11,
   "metadata": {},
   "outputs": [
    {
     "data": {
      "text/plain": [
       "array([-0.17036643, -0.04587725])"
      ]
     },
     "execution_count": 11,
     "metadata": {},
     "output_type": "execute_result"
    }
   ],
   "source": [
    "#using a boolean index array inplace\n",
    "arr_2d[arr_2d < 0]"
   ]
  },
  {
   "cell_type": "code",
   "execution_count": 12,
   "metadata": {},
   "outputs": [
    {
     "data": {
      "text/plain": [
       "array([-0.17036643, -0.04587725])"
      ]
     },
     "execution_count": 12,
     "metadata": {},
     "output_type": "execute_result"
    }
   ],
   "source": [
    "#complex boolean expressions\n",
    "arr_2d[(arr_2d > -0.5) & (arr_2d < 0)]"
   ]
  },
  {
   "cell_type": "code",
   "execution_count": 13,
   "metadata": {},
   "outputs": [
    {
     "data": {
      "text/plain": [
       "array([1.10493847, 0.        , 0.376578  , 2.38746806, 0.        ])"
      ]
     },
     "execution_count": 13,
     "metadata": {},
     "output_type": "execute_result"
    }
   ],
   "source": [
    "#setting the value based on a boolean indexing array\n",
    "arr_2d[arr_2d < 0] = 0\n",
    "arr_2d"
   ]
  },
  {
   "cell_type": "markdown",
   "metadata": {},
   "source": [
    "###list-of-locations indexing"
   ]
  },
  {
   "cell_type": "code",
   "execution_count": 14,
   "metadata": {},
   "outputs": [
    {
     "data": {
      "text/plain": [
       "array([[ 0,  1,  2],\n",
       "       [ 3,  4,  5],\n",
       "       [ 6,  7,  8],\n",
       "       [ 9, 10, 11],\n",
       "       [12, 13, 14],\n",
       "       [15, 16, 17]])"
      ]
     },
     "execution_count": 14,
     "metadata": {},
     "output_type": "execute_result"
    }
   ],
   "source": [
    "#the data. 18 elements in 6 rows and 3 columns\n",
    "arr = np.arange(18).reshape(6,3)\n",
    "arr"
   ]
  },
  {
   "cell_type": "code",
   "execution_count": 15,
   "metadata": {},
   "outputs": [
    {
     "data": {
      "text/plain": [
       "array([[ 0,  1,  2],\n",
       "       [12, 13, 14],\n",
       "       [12, 13, 14]])"
      ]
     },
     "execution_count": 15,
     "metadata": {},
     "output_type": "execute_result"
    }
   ],
   "source": [
    "# fancy selection of rows in a particular order\n",
    "arr[[0,4,4]]"
   ]
  },
  {
   "cell_type": "code",
   "execution_count": 16,
   "metadata": {},
   "outputs": [
    {
     "data": {
      "text/plain": [
       "array([17, 10,  3])"
      ]
     },
     "execution_count": 16,
     "metadata": {},
     "output_type": "execute_result"
    }
   ],
   "source": [
    "#select elements [5,2], [3,1],[1,0]\n",
    "arr[[5,3,1],[2,1,0]]"
   ]
  },
  {
   "cell_type": "markdown",
   "metadata": {},
   "source": [
    "## Universal Functions"
   ]
  },
  {
   "cell_type": "markdown",
   "execution_count": null,
   "metadata": {},
   "outputs": [],
   "source": [
    "| Function                | Description                                                                                                                                          |\n",
    "|-------------------------|------------------------------------------------------------------------------------------------------------------------------------------------------|\n",
    "| abs, fabs               | Compute the absolute value element-wise for integer, floating point, or complex values. Use fabs as a faster alternative for non-complex-valued data |\n",
    "| sqrt                    | Compute the square root of each element. Equivalent to arr ** 0.5                                                                                    |\n",
    "| square                  | Compute the square of each element. Equivalent to arr ** 2                                                                                           |\n",
    "| exp                     | Compute the exponent ex of each element                                                                                                              |\n",
    "| log, log10, log2, log1p | Natural logarithm (base e), log base 10, log base 2, and log(1 + x), respectively                                                                    |\n",
    "| sign                    | Compute the sign of each element: 1 (positive), 0 (zero), or -1 (negative)                                                                           |\n",
    "| ceil                    | Compute the ceiling of each element, i.e. the smallest integer greater than or equal to each element                                                 |\n",
    "| floor                   | Compute the floor of each element, i.e. the largest integer less than or equal to each element "
   ]
  },
  {
   "cell_type": "code",
   "execution_count": 3,
   "metadata": {},
   "outputs": [],
   "source": [
    " arr = np.arange(10)"
   ]
  },
  {
   "cell_type": "code",
   "execution_count": null,
   "metadata": {},
   "outputs": [],
   "source": [
    "np.sqrt(arr)"
   ]
  },
  {
   "cell_type": "code",
   "execution_count": 4,
   "metadata": {},
   "outputs": [
    {
     "data": {
      "text/plain": "array([1.00000000e+00, 2.71828183e+00, 7.38905610e+00, 2.00855369e+01,\n       5.45981500e+01, 1.48413159e+02, 4.03428793e+02, 1.09663316e+03,\n       2.98095799e+03, 8.10308393e+03])"
     },
     "execution_count": 4,
     "metadata": {},
     "output_type": "execute_result"
    }
   ],
   "source": [
    "np.exp(arr)"
   ]
  },
  {
   "cell_type": "markdown",
   "execution_count": null,
   "metadata": {},
   "outputs": [],
   "source": [
    "### Mathematical and Statistical Methods\n",
    "\n",
    "A set of mathematical functions which compute statistics about an entire array or about the data along an axis are accessible as array methods"
   ]
  },
  {
   "cell_type": "code",
   "execution_count": 6,
   "metadata": {},
   "outputs": [],
   "source": [
    "arr = np.random.randn(5, 4)"
   ]
  },
  {
   "cell_type": "code",
   "execution_count": 7,
   "metadata": {},
   "outputs": [
    {
     "data": {
      "text/plain": "-0.12010048164196137"
     },
     "execution_count": 7,
     "metadata": {},
     "output_type": "execute_result"
    }
   ],
   "source": [
    "arr.mean()"
   ]
  },
  {
   "cell_type": "code",
   "execution_count": 8,
   "metadata": {},
   "outputs": [
    {
     "data": {
      "text/plain": "-2.4020096328392273"
     },
     "execution_count": 8,
     "metadata": {},
     "output_type": "execute_result"
    }
   ],
   "source": [
    "arr.sum()"
   ]
  },
  {
   "cell_type": "code",
   "execution_count": 9,
   "metadata": {},
   "outputs": [
    {
     "data": {
      "text/plain": "array([ 0.07695205,  0.06638701,  0.34703253, -0.69824656, -0.39262745])"
     },
     "execution_count": 9,
     "metadata": {},
     "output_type": "execute_result"
    }
   ],
   "source": [
    "arr.mean(axis=1)"
   ]
  },
  {
   "cell_type": "markdown",
   "metadata": {},
   "source": [
    "## Matrix algebra"
   ]
  },
  {
   "cell_type": "markdown",
   "metadata": {},
   "source": [
    "What about matrix mutiplication? There are two ways. We can either use the `dot` function, which applies a matrix-matrix, matrix-vector, or inner vector multiplication to its two arguments: "
   ]
  },
  {
   "cell_type": "code",
   "execution_count": 27,
   "metadata": {},
   "outputs": [],
   "source": [
    "Y = np.random.randn(5, 4)"
   ]
  },
  {
   "cell_type": "code",
   "execution_count": 28,
   "metadata": {},
   "outputs": [
    {
     "data": {
      "text/plain": [
       "(array([[-0.40038669,  1.11829379, -1.07499997, -0.20100177,  1.24745862],\n",
       "        [-0.65041872,  1.03785775, -0.91727384,  1.84144098,  0.57501708],\n",
       "        [-0.98545769, -1.35682004, -0.61046597,  1.43044743,  0.14167787]]),\n",
       " array([[ 0.19959726, -0.52817142, -0.37757318,  0.14013078],\n",
       "        [ 0.36362986,  0.42031749,  0.10042907,  0.30814386],\n",
       "        [ 0.20266257,  1.96200371,  0.09868671, -0.1448721 ],\n",
       "        [-0.39149893, -0.9814651 , -0.17533847, -1.31771535],\n",
       "        [ 2.25418205,  1.12518   ,  1.96686984, -1.95197939]]))"
      ]
     },
     "execution_count": 28,
     "metadata": {},
     "output_type": "execute_result"
    }
   ],
   "source": [
    "X, Y"
   ]
  },
  {
   "cell_type": "code",
   "execution_count": 29,
   "metadata": {},
   "outputs": [
    {
     "data": {
      "text/plain": [
       "array([[ 2.99955747,  0.17324903,  2.64622835, -1.72592403],\n",
       "       [ 0.63694822, -2.18024467,  1.06739733, -3.18736334],\n",
       "       [-1.05444445, -2.49206222,  0.20342282, -2.62922406]])"
      ]
     },
     "execution_count": 29,
     "metadata": {},
     "output_type": "execute_result"
    }
   ],
   "source": [
    "Z = np.dot(X, Y)\n",
    "Z"
   ]
  },
  {
   "cell_type": "code",
   "execution_count": 30,
   "metadata": {},
   "outputs": [
    {
     "data": {
      "text/plain": [
       "((3, 5), (5, 4), (3, 4))"
      ]
     },
     "execution_count": 30,
     "metadata": {},
     "output_type": "execute_result"
    }
   ],
   "source": [
    "X.shape, Y.shape, Z.shape"
   ]
  },
  {
   "cell_type": "code",
   "execution_count": 31,
   "metadata": {},
   "outputs": [],
   "source": [
    "Z = X.dot(Y) #same as above"
   ]
  },
  {
   "cell_type": "code",
   "execution_count": 32,
   "metadata": {},
   "outputs": [],
   "source": [
    "# Matrix-Vector multiplication"
   ]
  },
  {
   "cell_type": "code",
   "execution_count": 33,
   "metadata": {},
   "outputs": [
    {
     "data": {
      "text/plain": [
       "array([[1, 1],\n",
       "       [2, 2]])"
      ]
     },
     "execution_count": 33,
     "metadata": {},
     "output_type": "execute_result"
    }
   ],
   "source": [
    "A = np.array([[1,1],[2,2]])\n",
    "A"
   ]
  },
  {
   "cell_type": "code",
   "execution_count": 34,
   "metadata": {},
   "outputs": [
    {
     "data": {
      "text/plain": [
       "array([0, 1])"
      ]
     },
     "execution_count": 34,
     "metadata": {},
     "output_type": "execute_result"
    }
   ],
   "source": [
    "v1 = np.arange(0, 2)\n",
    "v1"
   ]
  },
  {
   "cell_type": "code",
   "execution_count": 35,
   "metadata": {},
   "outputs": [
    {
     "data": {
      "text/plain": [
       "array([1, 2])"
      ]
     },
     "execution_count": 35,
     "metadata": {},
     "output_type": "execute_result"
    }
   ],
   "source": [
    "np.dot(A, v1)"
   ]
  },
  {
   "cell_type": "markdown",
   "metadata": {},
   "source": [
    "#### Matrix multiplication via casts\n",
    "\n",
    "Alternatively, we can cast the array objects to the type `matrix`. This changes the behavior of the standard arithmetic operators `+, -, *` to use matrix algebra."
   ]
  },
  {
   "cell_type": "code",
   "execution_count": 36,
   "metadata": {},
   "outputs": [
    {
     "data": {
      "text/plain": [
       "matrix([[0],\n",
       "        [1]])"
      ]
     },
     "execution_count": 36,
     "metadata": {},
     "output_type": "execute_result"
    }
   ],
   "source": [
    "M = np.matrix(A)\n",
    "v = np.matrix(v1).T # make it a column vector (T is the transpose operation)\n",
    "v"
   ]
  },
  {
   "cell_type": "code",
   "execution_count": 37,
   "metadata": {},
   "outputs": [
    {
     "data": {
      "text/plain": [
       "matrix([[3, 3],\n",
       "        [6, 6]])"
      ]
     },
     "execution_count": 37,
     "metadata": {},
     "output_type": "execute_result"
    }
   ],
   "source": [
    "M*M"
   ]
  },
  {
   "cell_type": "code",
   "execution_count": 38,
   "metadata": {},
   "outputs": [
    {
     "data": {
      "text/plain": [
       "matrix([[1],\n",
       "        [2]])"
      ]
     },
     "execution_count": 38,
     "metadata": {},
     "output_type": "execute_result"
    }
   ],
   "source": [
    "M*v"
   ]
  },
  {
   "cell_type": "code",
   "execution_count": 39,
   "metadata": {},
   "outputs": [
    {
     "data": {
      "text/plain": [
       "matrix([[1]])"
      ]
     },
     "execution_count": 39,
     "metadata": {},
     "output_type": "execute_result"
    }
   ],
   "source": [
    "# inner product\n",
    "v.T * v"
   ]
  },
  {
   "cell_type": "code",
   "execution_count": 40,
   "metadata": {},
   "outputs": [
    {
     "data": {
      "text/plain": [
       "matrix([[1],\n",
       "        [3]])"
      ]
     },
     "execution_count": 40,
     "metadata": {},
     "output_type": "execute_result"
    }
   ],
   "source": [
    "# with matrix objects, standard matrix algebra applies\n",
    "v + M*v"
   ]
  },
  {
   "cell_type": "markdown",
   "execution_count": null,
   "metadata": {},
   "outputs": [],
   "source": [
    "# Getting started with Pandas\n",
    "\n",
    "Pandas contains high-level data structures and manipulation tools designed to make data analysis fast and easy in Python. pandas is built on top of NumPy and makes it easy to use in NumPy-centric applications."
   ]
  },
  {
   "cell_type": "markdown",
   "execution_count": 63,
   "metadata": {},
   "outputs": [],
   "source": [
    "## Pandas data structures"
   ]
  },
  {
   "cell_type": "code",
   "execution_count": 2,
   "metadata": {},
   "outputs": [],
   "source": [
    "import pandas as pd"
   ]
  },
  {
   "cell_type": "markdown",
   "execution_count": null,
   "metadata": {},
   "outputs": [],
   "source": [
    "### Series\n",
    "\n",
    "A Series is a one-dimensional array-like object containing an array of data (of any NumPy data type) and an associated array of data labels, called its index."
   ]
  },
  {
   "cell_type": "code",
   "execution_count": 3,
   "metadata": {},
   "outputs": [],
   "source": [
    "obj = pd.Series([4, 7, -5, 3])"
   ]
  },
  {
   "cell_type": "code",
   "execution_count": 4,
   "metadata": {},
   "outputs": [
    {
     "data": {
      "text/plain": "array([ 4,  7, -5,  3])"
     },
     "execution_count": 4,
     "metadata": {},
     "output_type": "execute_result"
    }
   ],
   "source": [
    "obj.values"
   ]
  },
  {
   "cell_type": "code",
   "execution_count": 5,
   "metadata": {},
   "outputs": [
    {
     "data": {
      "text/plain": "RangeIndex(start=0, stop=4, step=1)"
     },
     "execution_count": 5,
     "metadata": {},
     "output_type": "execute_result"
    }
   ],
   "source": [
    "obj.index"
   ]
  },
  {
   "cell_type": "markdown",
   "execution_count": null,
   "metadata": {},
   "outputs": [],
   "source": [
    "* Create a Series with an index identifying each data point:\n",
    "* Compared with a regular NumPy array, you can use values in the index when selecting single values or a set of values:"
   ]
  },
  {
   "cell_type": "code",
   "execution_count": 8,
   "metadata": {},
   "outputs": [],
   "source": [
    "obj2 = pd.Series([4, 7, -5, 3], index=['d', 'b', 'a', 'c'])"
   ]
  },
  {
   "cell_type": "code",
   "execution_count": 9,
   "metadata": {},
   "outputs": [
    {
     "data": {
      "text/plain": "-5"
     },
     "execution_count": 9,
     "metadata": {},
     "output_type": "execute_result"
    }
   ],
   "source": [
    "obj2['a']"
   ]
  },
  {
   "cell_type": "code",
   "execution_count": 10,
   "metadata": {},
   "outputs": [
    {
     "data": {
      "text/plain": "d    4\nb    7\nc    3\ndtype: int64"
     },
     "execution_count": 10,
     "metadata": {},
     "output_type": "execute_result"
    }
   ],
   "source": [
    "obj2[obj2 > 0]"
   ]
  },
  {
   "cell_type": "markdown",
   "execution_count": null,
   "metadata": {},
   "outputs": [],
   "source": [
    "Series can function as a dict"
   ]
  },
  {
   "cell_type": "code",
   "execution_count": 11,
   "metadata": {},
   "outputs": [
    {
     "data": {
      "text/plain": "True"
     },
     "execution_count": 11,
     "metadata": {},
     "output_type": "execute_result"
    }
   ],
   "source": [
    " 'b' in obj2"
   ]
  },
  {
   "cell_type": "markdown",
   "execution_count": null,
   "metadata": {},
   "outputs": [],
   "source": [
    "You can build a series from a dict"
   ]
  },
  {
   "cell_type": "code",
   "execution_count": 16,
   "metadata": {},
   "outputs": [],
   "source": [
    "sdata = {'Ohio': 35000, 'Texas': 71000, 'Oregon': 16000, 'Utah': 5000}\n",
    "states = ['California', 'Ohio', 'Oregon', 'Texas']"
   ]
  },
  {
   "cell_type": "code",
   "execution_count": 17,
   "metadata": {},
   "outputs": [],
   "source": [
    "obj3 = pd.Series(sdata, index=states)"
   ]
  },
  {
   "cell_type": "code",
   "execution_count": 18,
   "metadata": {},
   "outputs": [
    {
     "data": {
      "text/plain": "California        NaN\nOhio          35000.0\nOregon        16000.0\nTexas         71000.0\ndtype: float64"
     },
     "execution_count": 18,
     "metadata": {},
     "output_type": "execute_result"
    }
   ],
   "source": [
    "obj3"
   ]
  },
  {
   "cell_type": "markdown",
   "execution_count": null,
   "metadata": {},
   "outputs": [],
   "source": [
    "## DataFrame"
   ]
  },
  {
   "cell_type": "markdown",
   "execution_count": null,
   "metadata": {},
   "outputs": [],
   "source": [
    "* A DataFrame represents a tabular, spreadsheet-like data structure containing an or- dered collection of columns, each of which can be a different value type (numeric, string, boolean, etc.).\n",
    "* The DataFrame has both a row and column index; it can be thought of as a dict of Series (one for all sharing the same index)."
   ]
  },
  {
   "cell_type": "markdown",
   "execution_count": null,
   "metadata": {},
   "outputs": [],
   "source": [
    "### Create a Dataframe "
   ]
  },
  {
   "cell_type": "code",
   "execution_count": 20,
   "metadata": {},
   "outputs": [],
   "source": [
    "data = {'state': ['Ohio', 'Ohio', 'Ohio', 'Nevada', 'Nevada'], 'year': [2000, 2001, 2002, 2001, 2002],\n",
    "'pop': [1.5, 1.7, 3.6, 2.4, 2.9]}\n",
    "frame = pd.DataFrame(data)"
   ]
  },
  {
   "cell_type": "code",
   "execution_count": 22,
   "metadata": {},
   "outputs": [
    {
     "data": {
      "text/html": "<div>\n<style scoped>\n    .dataframe tbody tr th:only-of-type {\n        vertical-align: middle;\n    }\n\n    .dataframe tbody tr th {\n        vertical-align: top;\n    }\n\n    .dataframe thead th {\n        text-align: right;\n    }\n</style>\n<table border=\"1\" class=\"dataframe\">\n  <thead>\n    <tr style=\"text-align: right;\">\n      <th></th>\n      <th>state</th>\n      <th>year</th>\n      <th>pop</th>\n    </tr>\n  </thead>\n  <tbody>\n    <tr>\n      <th>0</th>\n      <td>Ohio</td>\n      <td>2000</td>\n      <td>1.5</td>\n    </tr>\n    <tr>\n      <th>1</th>\n      <td>Ohio</td>\n      <td>2001</td>\n      <td>1.7</td>\n    </tr>\n    <tr>\n      <th>2</th>\n      <td>Ohio</td>\n      <td>2002</td>\n      <td>3.6</td>\n    </tr>\n    <tr>\n      <th>3</th>\n      <td>Nevada</td>\n      <td>2001</td>\n      <td>2.4</td>\n    </tr>\n    <tr>\n      <th>4</th>\n      <td>Nevada</td>\n      <td>2002</td>\n      <td>2.9</td>\n    </tr>\n  </tbody>\n</table>\n</div>",
      "text/plain": "    state  year  pop\n0    Ohio  2000  1.5\n1    Ohio  2001  1.7\n2    Ohio  2002  3.6\n3  Nevada  2001  2.4\n4  Nevada  2002  2.9"
     },
     "execution_count": 22,
     "metadata": {},
     "output_type": "execute_result"
    }
   ],
   "source": [
    "frame"
   ]
  },
  {
   "cell_type": "markdown",
   "execution_count": null,
   "metadata": {},
   "outputs": [],
   "source": [
    "The columns can be specified"
   ]
  },
  {
   "cell_type": "code",
   "execution_count": 23,
   "metadata": {},
   "outputs": [],
   "source": [
    "frame1 = pd.DataFrame(data, columns=['state', 'pop'])"
   ]
  },
  {
   "cell_type": "code",
   "execution_count": 25,
   "metadata": {},
   "outputs": [
    {
     "data": {
      "text/plain": "Index(['state', 'pop'], dtype='object')"
     },
     "execution_count": 25,
     "metadata": {},
     "output_type": "execute_result"
    }
   ],
   "source": [
    "frame1.columns"
   ]
  },
  {
   "cell_type": "markdown",
   "execution_count": null,
   "metadata": {},
   "outputs": [],
   "source": [
    "### Import a dataframe"
   ]
  },
  {
   "cell_type": "code",
   "execution_count": 32,
   "metadata": {},
   "outputs": [],
   "source": [
    "df_adm = pd.read_csv('csvs/ADMISSIONS.csv')"
   ]
  },
  {
   "cell_type": "code",
   "execution_count": 34,
   "metadata": {},
   "outputs": [
    {
     "data": {
      "text/html": "<div>\n<style scoped>\n    .dataframe tbody tr th:only-of-type {\n        vertical-align: middle;\n    }\n\n    .dataframe tbody tr th {\n        vertical-align: top;\n    }\n\n    .dataframe thead th {\n        text-align: right;\n    }\n</style>\n<table border=\"1\" class=\"dataframe\">\n  <thead>\n    <tr style=\"text-align: right;\">\n      <th></th>\n      <th>row_id</th>\n      <th>subject_id</th>\n      <th>hadm_id</th>\n      <th>admittime</th>\n      <th>dischtime</th>\n      <th>deathtime</th>\n      <th>admission_type</th>\n      <th>admission_location</th>\n      <th>discharge_location</th>\n      <th>insurance</th>\n      <th>language</th>\n      <th>religion</th>\n      <th>marital_status</th>\n      <th>ethnicity</th>\n      <th>edregtime</th>\n      <th>edouttime</th>\n      <th>diagnosis</th>\n      <th>hospital_expire_flag</th>\n      <th>has_chartevents_data</th>\n    </tr>\n  </thead>\n  <tbody>\n    <tr>\n      <th>0</th>\n      <td>12258</td>\n      <td>10006</td>\n      <td>142345</td>\n      <td>2164-10-23 21:09:00</td>\n      <td>2164-11-01 17:15:00</td>\n      <td>NaN</td>\n      <td>EMERGENCY</td>\n      <td>EMERGENCY ROOM ADMIT</td>\n      <td>HOME HEALTH CARE</td>\n      <td>Medicare</td>\n      <td>NaN</td>\n      <td>CATHOLIC</td>\n      <td>SEPARATED</td>\n      <td>BLACK/AFRICAN AMERICAN</td>\n      <td>2164-10-23 16:43:00</td>\n      <td>2164-10-23 23:00:00</td>\n      <td>SEPSIS</td>\n      <td>0</td>\n      <td>1</td>\n    </tr>\n    <tr>\n      <th>1</th>\n      <td>12263</td>\n      <td>10011</td>\n      <td>105331</td>\n      <td>2126-08-14 22:32:00</td>\n      <td>2126-08-28 18:59:00</td>\n      <td>2126-08-28 18:59:00</td>\n      <td>EMERGENCY</td>\n      <td>TRANSFER FROM HOSP/EXTRAM</td>\n      <td>DEAD/EXPIRED</td>\n      <td>Private</td>\n      <td>NaN</td>\n      <td>CATHOLIC</td>\n      <td>SINGLE</td>\n      <td>UNKNOWN/NOT SPECIFIED</td>\n      <td>NaN</td>\n      <td>NaN</td>\n      <td>HEPATITIS B</td>\n      <td>1</td>\n      <td>1</td>\n    </tr>\n    <tr>\n      <th>2</th>\n      <td>12265</td>\n      <td>10013</td>\n      <td>165520</td>\n      <td>2125-10-04 23:36:00</td>\n      <td>2125-10-07 15:13:00</td>\n      <td>2125-10-07 15:13:00</td>\n      <td>EMERGENCY</td>\n      <td>TRANSFER FROM HOSP/EXTRAM</td>\n      <td>DEAD/EXPIRED</td>\n      <td>Medicare</td>\n      <td>NaN</td>\n      <td>CATHOLIC</td>\n      <td>NaN</td>\n      <td>UNKNOWN/NOT SPECIFIED</td>\n      <td>NaN</td>\n      <td>NaN</td>\n      <td>SEPSIS</td>\n      <td>1</td>\n      <td>1</td>\n    </tr>\n    <tr>\n      <th>3</th>\n      <td>12269</td>\n      <td>10017</td>\n      <td>199207</td>\n      <td>2149-05-26 17:19:00</td>\n      <td>2149-06-03 18:42:00</td>\n      <td>NaN</td>\n      <td>EMERGENCY</td>\n      <td>EMERGENCY ROOM ADMIT</td>\n      <td>SNF</td>\n      <td>Medicare</td>\n      <td>NaN</td>\n      <td>CATHOLIC</td>\n      <td>DIVORCED</td>\n      <td>WHITE</td>\n      <td>2149-05-26 12:08:00</td>\n      <td>2149-05-26 19:45:00</td>\n      <td>HUMERAL FRACTURE</td>\n      <td>0</td>\n      <td>1</td>\n    </tr>\n    <tr>\n      <th>4</th>\n      <td>12270</td>\n      <td>10019</td>\n      <td>177759</td>\n      <td>2163-05-14 20:43:00</td>\n      <td>2163-05-15 12:00:00</td>\n      <td>2163-05-15 12:00:00</td>\n      <td>EMERGENCY</td>\n      <td>TRANSFER FROM HOSP/EXTRAM</td>\n      <td>DEAD/EXPIRED</td>\n      <td>Medicare</td>\n      <td>NaN</td>\n      <td>CATHOLIC</td>\n      <td>DIVORCED</td>\n      <td>WHITE</td>\n      <td>NaN</td>\n      <td>NaN</td>\n      <td>ALCOHOLIC HEPATITIS</td>\n      <td>1</td>\n      <td>1</td>\n    </tr>\n  </tbody>\n</table>\n</div>",
      "text/plain": "   row_id  subject_id  hadm_id            admittime            dischtime  \\\n0   12258       10006   142345  2164-10-23 21:09:00  2164-11-01 17:15:00   \n1   12263       10011   105331  2126-08-14 22:32:00  2126-08-28 18:59:00   \n2   12265       10013   165520  2125-10-04 23:36:00  2125-10-07 15:13:00   \n3   12269       10017   199207  2149-05-26 17:19:00  2149-06-03 18:42:00   \n4   12270       10019   177759  2163-05-14 20:43:00  2163-05-15 12:00:00   \n\n             deathtime admission_type         admission_location  \\\n0                  NaN      EMERGENCY       EMERGENCY ROOM ADMIT   \n1  2126-08-28 18:59:00      EMERGENCY  TRANSFER FROM HOSP/EXTRAM   \n2  2125-10-07 15:13:00      EMERGENCY  TRANSFER FROM HOSP/EXTRAM   \n3                  NaN      EMERGENCY       EMERGENCY ROOM ADMIT   \n4  2163-05-15 12:00:00      EMERGENCY  TRANSFER FROM HOSP/EXTRAM   \n\n  discharge_location insurance language  religion marital_status  \\\n0   HOME HEALTH CARE  Medicare      NaN  CATHOLIC      SEPARATED   \n1       DEAD/EXPIRED   Private      NaN  CATHOLIC         SINGLE   \n2       DEAD/EXPIRED  Medicare      NaN  CATHOLIC            NaN   \n3                SNF  Medicare      NaN  CATHOLIC       DIVORCED   \n4       DEAD/EXPIRED  Medicare      NaN  CATHOLIC       DIVORCED   \n\n                ethnicity            edregtime            edouttime  \\\n0  BLACK/AFRICAN AMERICAN  2164-10-23 16:43:00  2164-10-23 23:00:00   \n1   UNKNOWN/NOT SPECIFIED                  NaN                  NaN   \n2   UNKNOWN/NOT SPECIFIED                  NaN                  NaN   \n3                   WHITE  2149-05-26 12:08:00  2149-05-26 19:45:00   \n4                   WHITE                  NaN                  NaN   \n\n             diagnosis  hospital_expire_flag  has_chartevents_data  \n0               SEPSIS                     0                     1  \n1          HEPATITIS B                     1                     1  \n2               SEPSIS                     1                     1  \n3     HUMERAL FRACTURE                     0                     1  \n4  ALCOHOLIC HEPATITIS                     1                     1  "
     },
     "execution_count": 34,
     "metadata": {},
     "output_type": "execute_result"
    }
   ],
   "source": [
    "df_adm.head()"
   ]
  },
  {
   "cell_type": "markdown",
   "execution_count": 41,
   "metadata": {},
   "outputs": [
    {
     "name": "stdout",
     "output_type": "stream",
     "text": "   SparseDataFrame : Container for sparse tabular data.\n |      \n |      Notes\n |      -----\n |      Sparse data should have the same dtypes as its dense representation.\n |      \n |      Examples\n |      --------\n |      >>> arr = np.random.RandomState(0).randn(100, 4)\n |      >>> arr[arr < .8] = np.nan\n |      >>> pd.DataFrame(arr).ftypes\n |      0    float64:dense\n |      1    float64:dense\n |      2    float64:dense\n |      3    float64:dense\n |      dtype: object\n |      \n |      >>> pd.SparseDataFrame(arr).ftypes  # doctest: +SKIP\n |      0    float64:sparse\n |      1    float64:sparse\n |      2    float64:sparse\n |      3    float64:sparse\n |      dtype: object\n |  \n |  iat\n |      Access a single value for a row/column pair by integer position.\n |      \n |      Similar to ``iloc``, in that both provide integer-based lookups. Use\n |      ``iat`` if you only need to get or set a single value in a DataFrame\n |      or Series.\n |      \n |      Raises\n |      ------\n |      IndexError\n |          When integer position is out of bounds\n |      \n |      See Also\n |      --------\n |      DataFrame.at : Access a single value for a row/column label pair.\n |      DataFrame.loc : Access a group of rows and columns by label(s).\n |      DataFrame.iloc : Access a group of rows and columns by integer position(s).\n |      \n |      Examples\n |      --------\n |      >>> df = pd.DataFrame([[0, 2, 3], [0, 4, 1], [10, 20, 30]],\n |      ...                   columns=['A', 'B', 'C'])\n |      >>> df\n |          A   B   C\n |      0   0   2   3\n |      1   0   4   1\n |      2  10  20  30\n |      \n |      Get value at specified row/column pair\n |      \n |      >>> df.iat[1, 2]\n |      1\n |      \n |      Set value at specified row/column pair\n |      \n |      >>> df.iat[1, 2] = 10\n |      >>> df.iat[1, 2]\n |      10\n |      \n |      Get value within a series\n |      \n |      >>> df.loc[0].iat[1]\n |      2\n |  \n |  iloc\n |      Purely integer-location based indexing for selection by position.\n |      \n |      ``.iloc[]`` is primarily integer position based (from ``0`` to\n |      ``length-1`` of the axis), but may also be used with a boolean\n |      array.\n |      \n |      Allowed inputs are:\n |      \n |      - An integer, e.g. ``5``.\n |      - A list or array of integers, e.g. ``[4, 3, 0]``.\n |      - A slice object with ints, e.g. ``1:7``.\n |      - A boolean array.\n |      - A ``callable`` function with one argument (the calling Series or\n |        DataFrame) and that returns valid output for indexing (one of the above).\n |        This is useful in method chains, when you don't have a reference to the\n |        calling object, but would like to base your selection on some value.\n |      \n |      ``.iloc`` will raise ``IndexError`` if a requested indexer is\n |      out-of-bounds, except *slice* indexers which allow out-of-bounds\n |      indexing (this conforms with python/numpy *slice* semantics).\n |      \n |      See more at :ref:`Selection by Position <indexing.integer>`.\n |      \n |      See Also\n |      --------\n |      DataFrame.iat : Fast integer location scalar accessor.\n |      DataFrame.loc : Purely label-location based indexer for selection by label.\n |      Series.iloc : Purely integer-location based indexing for\n |                     selection by position.\n |      \n |      Examples\n |      --------\n |      \n |      >>> mydict = [{'a': 1, 'b': 2, 'c': 3, 'd': 4},\n |      ...           {'a': 100, 'b': 200, 'c': 300, 'd': 400},\n |      ...           {'a': 1000, 'b': 2000, 'c': 3000, 'd': 4000 }]\n |      >>> df = pd.DataFrame(mydict)\n |      >>> df\n |            a     b     c     d\n |      0     1     2     3     4\n |      1   100   200   300   400\n |      2  1000  2000  3000  4000\n |      \n |      **Indexing just the rows**\n |      \n |      With a scalar integer.\n |      \n |      >>> type(df.iloc[0])\n |      <class 'pandas.core.series.Series'>\n |      >>> df.iloc[0]\n |      a    1\n |      b    2\n |      c    3\n |      d    4\n |      Name: 0, dtype: int64\n |      \n |      With a list of integers.\n |      \n |      >>> df.iloc[[0]]\n |         a  b  c  d\n |      0  1  2  3  4\n |      >>> type(df.iloc[[0]])\n |      <class 'pandas.core.frame.DataFrame'>\n |      \n |      >>> df.iloc[[0, 1]]\n |           a    b    c    d\n |      0    1    2    3    4\n |      1  100  200  300  400\n |      \n |      With a `slice` object.\n |      \n |      >>> df.iloc[:3]\n |            a     b     c     d\n |      0     1     2     3     4\n |      1   100   200   300   400\n |      2  1000  2000  3000  4000\n |      \n |      With a boolean mask the same length as the index.\n |      \n |      >>> df.iloc[[True, False, True]]\n |            a     b     c     d\n |      0     1     2     3     4\n |      2  1000  2000  3000  4000\n |      \n |      With a callable, useful in method chains. The `x` passed\n |      to the ``lambda`` is the DataFrame being sliced. This selects\n |      the rows whose index label even.\n |      \n |      >>> df.iloc[lambda x: x.index % 2 == 0]\n |            a     b     c     d\n |      0     1     2     3     4\n |      2  1000  2000  3000  4000\n |      \n |      **Indexing both axes**\n |      \n |      You can mix the indexer types for the index and columns. Use ``:`` to\n |      select the entire axis.\n |      \n |      With scalar integers.\n |      \n |      >>> df.iloc[0, 1]\n |      2\n |      \n |      With lists of integers.\n |      \n |      >>> df.iloc[[0, 2], [1, 3]]\n |            b     d\n |      0     2     4\n |      2  2000  4000\n |      \n |      With `slice` objects.\n |      \n |      >>> df.iloc[1:3, 0:3]\n |            a     b     c\n |      1   100   200   300\n |      2  1000  2000  3000\n |      \n |      With a boolean array whose length matches the columns.\n |      \n |      >>> df.iloc[:, [True, False, True, False]]\n |            a     c\n |      0     1     3\n |      1   100   300\n |      2  1000  3000\n |      \n |      With a callable function that expects the Series or DataFrame.\n |      \n |      >>> df.iloc[:, lambda df: [0, 2]]\n |            a     c\n |      0     1     3\n |      1   100   300\n |      2  1000  3000\n |  \n |  is_copy\n |      Return the copy.\n |  \n |  ix\n |      A primarily label-location based indexer, with integer position\n |      fallback.\n |      \n |      Warning: Starting in 0.20.0, the .ix indexer is deprecated, in\n |      favor of the more strict .iloc and .loc indexers.\n |      \n |      ``.ix[]`` supports mixed integer and label based access. It is\n |      primarily label based, but will fall back to integer positional\n |      access unless the corresponding axis is of integer type.\n |      \n |      ``.ix`` is the most general indexer and will support any of the\n |      inputs in ``.loc`` and ``.iloc``. ``.ix`` also supports floating\n |      point label schemes. ``.ix`` is exceptionally useful when dealing\n |      with mixed positional and label based hierarchical indexes.\n |      \n |      However, when an axis is integer based, ONLY label based access\n |      and not positional access is supported. Thus, in such cases, it's\n |      usually better to be explicit and use ``.iloc`` or ``.loc``.\n |      \n |      See more at :ref:`Advanced Indexing <advanced>`.\n |  \n |  loc\n |      Access a group of rows and columns by label(s) or a boolean array.\n |      \n |      ``.loc[]`` is primarily label based, but may also be used with a\n |      boolean array.\n |      \n |      Allowed inputs are:\n |      \n |      - A single label, e.g. ``5`` or ``'a'``, (note that ``5`` is\n |        interpreted as a *label* of the index, and **never** as an\n |        integer position along the index).\n |      - A list or array of labels, e.g. ``['a', 'b', 'c']``.\n |      - A slice object with labels, e.g. ``'a':'f'``.\n |      \n |        .. warning:: Note that contrary to usual python slices, **both** the\n |            start and the stop are included\n |      \n |      - A boolean array of the same length as the axis being sliced,\n |        e.g. ``[True, False, True]``.\n |      - A ``callable`` function with one argument (the calling Series or\n |        DataFrame) and that returns valid output for indexing (one of the above)\n |      \n |      See more at :ref:`Selection by Label <indexing.label>`\n |      \n |      Raises\n |      ------\n |      KeyError:\n |          when any items are not found\n |      \n |      See Also\n |      --------\n |      DataFrame.at : Access a single value for a row/column label pair.\n |      DataFrame.iloc : Access group of rows and columns by integer position(s).\n |      DataFrame.xs : Returns a cross-section (row(s) or column(s)) from the\n |          Series/DataFrame.\n |      Series.loc : Access group of values using labels.\n |      \n |      Examples\n |      --------\n |      **Getting values**\n |      \n |      >>> df = pd.DataFrame([[1, 2], [4, 5], [7, 8]],\n |      ...      index=['cobra', 'viper', 'sidewinder'],\n |      ...      columns=['max_speed', 'shield'])\n |      >>> df\n |                  max_speed  shield\n |      cobra               1       2\n |      viper               4       5\n |      sidewinder          7       8\n |      \n |      Single label. Note this returns the row as a Series.\n |      \n |      >>> df.loc['viper']\n |      max_speed    4\n |      shield       5\n |      Name: viper, dtype: int64\n |      \n |      List of labels. Note using ``[[]]`` returns a DataFrame.\n |      \n |      >>> df.loc[['viper', 'sidewinder']]\n |                  max_speed  shield\n |      viper               4       5\n |      sidewinder          7       8\n |      \n |      Single label for row and column\n |      \n |      >>> df.loc['cobra', 'shield']\n |      2\n |      \n |      Slice with labels for row and single label for column. As mentioned\n |      above, note that both the start and stop of the slice are included.\n |      \n |      >>> df.loc['cobra':'viper', 'max_speed']\n |      cobra    1\n |      viper    4\n |      Name: max_speed, dtype: int64\n |      \n |      Boolean list with the same length as the row axis\n |      \n |      >>> df.loc[[False, False, True]]\n |                  max_speed  shield\n |      sidewinder          7       8\n |      \n |      Conditional that returns a boolean Series\n |      \n |      >>> df.loc[df['shield'] > 6]\n |                  max_speed  shield\n |      sidewinder          7       8\n |      \n |      Conditional that returns a boolean Series with column labels specified\n |      \n |      >>> df.loc[df['shield'] > 6, ['max_speed']]\n |                  max_speed\n |      sidewinder          7\n |      \n |      Callable that returns a boolean Series\n |      \n |      >>> df.loc[lambda df: df['shield'] == 8]\n |                  max_speed  shield\n |      sidewinder          7       8\n |      \n |      **Setting values**\n |      \n |      Set value for all items matching the list of labels\n |      \n |      >>> df.loc[['viper', 'sidewinder'], ['shield']] = 50\n |      >>> df\n |                  max_speed  shield\n |      cobra               1       2\n |      viper               4      50\n |      sidewinder          7      50\n |      \n |      Set value for an entire row\n |      \n |      >>> df.loc['cobra'] = 10\n |      >>> df\n |                  max_speed  shield\n |      cobra              10      10\n |      viper               4      50\n |      sidewinder          7      50\n |      \n |      Set value for an entire column\n |      \n |      >>> df.loc[:, 'max_speed'] = 30\n |      >>> df\n |                  max_speed  shield\n |      cobra              30      10\n |      viper              30      50\n |      sidewinder         30      50\n |      \n |      Set value for rows matching callable condition\n |      \n |      >>> df.loc[df['shield'] > 35] = 0\n |      >>> df\n |                  max_speed  shield\n |      cobra              30      10\n |      viper               0       0\n |      sidewinder          0       0\n |      \n |      **Getting values on a DataFrame with an index that has integer labels**\n |      \n |      Another example using integers for the index\n |      \n |      >>> df = pd.DataFrame([[1, 2], [4, 5], [7, 8]],\n |      ...      index=[7, 8, 9], columns=['max_speed', 'shield'])\n |      >>> df\n |         max_speed  shield\n |      7          1       2\n |      8          4       5\n |      9          7       8\n |      \n |      Slice with integer labels for rows. As mentioned above, note that both\n |      the start and stop of the slice are included.\n |      \n |      >>> df.loc[7:9]\n |         max_speed  shield\n |      7          1       2\n |      8          4       5\n |      9          7       8\n |      \n |      **Getting values with a MultiIndex**\n |      \n |      A number of examples using a DataFrame with a MultiIndex\n |      \n |      >>> tuples = [\n |      ...    ('cobra', 'mark i'), ('cobra', 'mark ii'),\n |      ...    ('sidewinder', 'mark i'), ('sidewinder', 'mark ii'),\n |      ...    ('viper', 'mark ii'), ('viper', 'mark iii')\n |      ... ]\n |      >>> index = pd.MultiIndex.from_tuples(tuples)\n |      >>> values = [[12, 2], [0, 4], [10, 20],\n |      ...         [1, 4], [7, 1], [16, 36]]\n |      >>> df = pd.DataFrame(values, columns=['max_speed', 'shield'], index=index)\n |      >>> df\n |                           max_speed  shield\n |      cobra      mark i           12       2\n |                 mark ii           0       4\n |      sidewinder mark i           10      20\n |                 mark ii           1       4\n |      viper      mark ii           7       1\n |                 mark iii         16      36\n |      \n |      Single label. Note this returns a DataFrame with a single index.\n |      \n |      >>> df.loc['cobra']\n |               max_speed  shield\n |      mark i          12       2\n |      mark ii          0       4\n |      \n |      Single index tuple. Note this returns a Series.\n |      \n |      >>> df.loc[('cobra', 'mark ii')]\n |      max_speed    0\n |      shield       4\n |      Name: (cobra, mark ii), dtype: int64\n |      \n |      Single label for row and column. Similar to passing in a tuple, this\n |      returns a Series.\n |      \n |      >>> df.loc['cobra', 'mark i']\n |      max_speed    12\n |      shield        2\n |      Name: (cobra, mark i), dtype: int64\n |      \n |      Single tuple. Note using ``[[]]`` returns a DataFrame.\n |      \n |      >>> df.loc[[('cobra', 'mark ii')]]\n |                     max_speed  shield\n |      cobra mark ii          0       4\n |      \n |      Single tuple for the index with a single label for the column\n |      \n |      >>> df.loc[('cobra', 'mark i'), 'shield']\n |      2\n |      \n |      Slice from index tuple to single label\n |      \n |      >>> df.loc[('cobra', 'mark i'):'viper']\n |                           max_speed  shield\n |      cobra      mark i           12       2\n |                 mark ii           0       4\n |      sidewinder mark i           10      20\n |                 mark ii           1       4\n |      viper      mark ii           7       1\n |                 mark iii         16      36\n |      \n |      Slice from index tuple to index tuple\n |      \n |      >>> df.loc[('cobra', 'mark i'):('viper', 'mark ii')]\n |                          max_speed  shield\n |      cobra      mark i          12       2\n |                 mark ii          0       4\n |      sidewinder mark i          10      20\n |                 mark ii          1       4\n |      viper      mark ii          7       1\n |  \n |  ndim\n |      Return an int representing the number of axes / array dimensions.\n |      \n |      Return 1 if Series. Otherwise return 2 if DataFrame.\n |      \n |      See Also\n |      --------\n |      ndarray.ndim : Number of array dimensions.\n |      \n |      Examples\n |      --------\n |      >>> s = pd.Series({'a': 1, 'b': 2, 'c': 3})\n |      >>> s.ndim\n |      1\n |      \n |      >>> df = pd.DataFrame({'col1': [1, 2], 'col2': [3, 4]})\n |      >>> df.ndim\n |      2\n |  \n |  size\n |      Return an int representing the number of elements in this object.\n |      \n |      Return the number of rows if Series. Otherwise return the number of\n |      rows times number of columns if DataFrame.\n |      \n |      See Also\n |      --------\n |      ndarray.size : Number of elements in the array.\n |      \n |      Examples\n |      --------\n |      >>> s = pd.Series({'a': 1, 'b': 2, 'c': 3})\n |      >>> s.size\n |      3\n |      \n |      >>> df = pd.DataFrame({'col1': [1, 2], 'col2': [3, 4]})\n |      >>> df.size\n |      4\n |  \n |  values\n |      Return a Numpy representation of the DataFrame.\n |      \n |      .. warning::\n |      \n |         We recommend using :meth:`DataFrame.to_numpy` instead.\n |      \n |      Only the values in the DataFrame will be returned, the axes labels\n |      will be removed.\n |      \n |      Returns\n |      -------\n |      numpy.ndarray\n |          The values of the DataFrame.\n |      \n |      See Also\n |      --------\n |      DataFrame.to_numpy : Recommended alternative to this method.\n |      DataFrame.index : Retrieve the index labels.\n |      DataFrame.columns : Retrieving the column names.\n |      \n |      Notes\n |      -----\n |      The dtype will be a lower-common-denominator dtype (implicit\n |      upcasting); that is to say if the dtypes (even of numeric types)\n |      are mixed, the one that accommodates all will be chosen. Use this\n |      with care if you are not dealing with the blocks.\n |      \n |      e.g. If the dtypes are float16 and float32, dtype will be upcast to\n |      float32.  If dtypes are int32 and uint8, dtype will be upcast to\n |      int32. By :func:`numpy.find_common_type` convention, mixing int64\n |      and uint64 will result in a float64 dtype.\n |      \n |      Examples\n |      --------\n |      A DataFrame where all columns are the same type (e.g., int64) results\n |      in an array of the same type.\n |      \n |      >>> df = pd.DataFrame({'age':    [ 3,  29],\n |      ...                    'height': [94, 170],\n |      ...                    'weight': [31, 115]})\n |      >>> df\n |         age  height  weight\n |      0    3      94      31\n |      1   29     170     115\n |      >>> df.dtypes\n |      age       int64\n |      height    int64\n |      weight    int64\n |      dtype: object\n |      >>> df.values\n |      array([[  3,  94,  31],\n |             [ 29, 170, 115]], dtype=int64)\n |      \n |      A DataFrame with mixed type columns(e.g., str/object, int64, float32)\n |      results in an ndarray of the broadest type that accommodates these\n |      mixed types (e.g., object).\n |      \n |      >>> df2 = pd.DataFrame([('parrot',   24.0, 'second'),\n |      ...                     ('lion',     80.5, 1),\n |      ...                     ('monkey', np.nan, None)],\n |      ...                   columns=('name', 'max_speed', 'rank'))\n |      >>> df2.dtypes\n |      name          object\n |      max_speed    float64\n |      rank          object\n |      dtype: object\n |      >>> df2.values\n |      array([['parrot', 24.0, 'second'],\n |             ['lion', 80.5, 1],\n |             ['monkey', nan, None]], dtype=object)\n |  \n |  ----------------------------------------------------------------------\n |  Data and other attributes inherited from pandas.core.generic.NDFrame:\n |  \n |  __array_priority__ = 1000\n |  \n |  ----------------------------------------------------------------------\n |  Methods inherited from pandas.core.base.PandasObject:\n |  \n |  __sizeof__(self)\n |      Generates the total memory usage for an object that returns\n |      either a value or Series of values\n |  \n |  ----------------------------------------------------------------------\n |  Methods inherited from pandas.core.accessor.DirNamesMixin:\n |  \n |  __dir__(self)\n |      Provide method name lookup and completion\n |      Only provide 'public' methods.\n |  \n |  ----------------------------------------------------------------------\n |  Data descriptors inherited from pandas.core.accessor.DirNamesMixin:\n |  \n |  __dict__\n |      dictionary for instance variables (if defined)\n |  \n |  __weakref__\n |      list of weak references to the object (if defined)\n\n"
    }
   ],
   "source": [
    "You can check all the column names"
   ]
  },
  {
   "cell_type": "code",
   "execution_count": 60,
   "metadata": {},
   "outputs": [
    {
     "data": {
      "text/plain": "Index(['row_id', 'subject_id', 'hadm_id', 'admittime', 'dischtime',\n       'deathtime', 'admission_type', 'admission_location',\n       'discharge_location', 'insurance', 'language', 'religion',\n       'marital_status', 'ethnicity', 'edregtime', 'edouttime', 'diagnosis',\n       'hospital_expire_flag', 'has_chartevents_data'],\n      dtype='object')"
     },
     "execution_count": 60,
     "metadata": {},
     "output_type": "execute_result"
    }
   ],
   "source": [
    "df_adm.columns"
   ]
  }
 ],
 "metadata": {
  "anaconda-cloud": {},
  "kernelspec": {
   "display_name": "Python 3",
   "language": "python",
   "name": "python3"
  },
  "language_info": {
   "codemirror_mode": {
    "name": "ipython",
    "version": 3
   },
   "file_extension": ".py",
   "mimetype": "text/x-python",
   "name": "python",
   "nbconvert_exporter": "python",
   "pygments_lexer": "ipython3",
   "version": "3.7.3-final"
  }
 },
 "nbformat": 4,
 "nbformat_minor": 1
}