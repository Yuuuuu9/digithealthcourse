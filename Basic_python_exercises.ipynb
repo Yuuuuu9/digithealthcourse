{
  "nbformat": 4,
  "nbformat_minor": 0,
  "metadata": {
    "kernelspec": {
      "display_name": "Python 3",
      "language": "python",
      "name": "python3"
    },
    "language_info": {
      "codemirror_mode": {
        "name": "ipython",
        "version": 3
      },
      "file_extension": ".py",
      "mimetype": "text/x-python",
      "name": "python",
      "nbconvert_exporter": "python",
      "pygments_lexer": "ipython3",
      "version": "3.5.4"
    },
    "colab": {
      "name": "Session1_no_solutions.ipynb",
      "provenance": [],
      "include_colab_link": true
    }
  },
  "cells": [
    {
      "cell_type": "markdown",
      "metadata": {
        "id": "view-in-github",
        "colab_type": "text"
      },
      "source": [
        "<a href=\"https://colab.research.google.com/github/niuguy/digithealthcourse/blob/master/Basic_python_exercises.ipynb\" target=\"_parent\"><img src=\"https://colab.research.google.com/assets/colab-badge.svg\" alt=\"Open In Colab\"/></a>"
      ]
    },
    {
      "cell_type": "markdown",
      "metadata": {
        "id": "CIvTg3EfeMGc",
        "colab_type": "text"
      },
      "source": [
        "# Introduction to Python (Exercises)\n"
      ]
    },
    {
      "cell_type": "markdown",
      "metadata": {
        "colab_type": "text",
        "id": "Hil6hbzRU7fX"
      },
      "source": [
        "## Variables\n"
      ]
    },
    {
      "cell_type": "markdown",
      "metadata": {
        "colab_type": "text",
        "id": "_fVVsqeKVH6e"
      },
      "source": [
        "##  Arithmetic operators\n",
        "\n",
        "Arithmetic operatora turn your computer into a (very) expensive calculator\n",
        "\n",
        "\n",
        "| Operator | Description | Example | Result |\n",
        "|----------| ----------- | ------- | ------ |\n",
        "| +  | addition           | 2+2  | 4   | \n",
        "| -  | subtraction        | 2-1  | 1   |\n",
        "| /  | division           | 3/2  | 1.5 |\n",
        "| // | division (integer) | 3//2 | 1   | \n",
        "| *  | multiplication     | 5\\*2 | 10  | \n",
        "| %  | modulus            | 7%3  | 1   |\n",
        "| \\*\\* | exponentiation | 2\\*\\*2 | 4 | "
      ]
    },
    {
      "cell_type": "markdown",
      "metadata": {
        "id": "ajJb7Fj2eMG-",
        "colab_type": "text"
      },
      "source": [
        "##### Exercise\n",
        "\n",
        "* Type the examples above\n",
        "* Create two variable that contains a patients systolic and diastolic blood pressure and calculate the _systemic blood pressure_ (systolic - diastolic blood pressure)\n"
      ]
    },
    {
      "cell_type": "code",
      "metadata": {
        "id": "RJS5O613eMG_",
        "colab_type": "code",
        "outputId": "e1ad7404-895e-450b-b5b5-c3cec83f07ac",
        "colab": {}
      },
      "source": [
        "# your Code"
      ],
      "execution_count": 0,
      "outputs": [
        {
          "output_type": "execute_result",
          "data": {
            "text/plain": [
              "40"
            ]
          },
          "metadata": {
            "tags": []
          },
          "execution_count": 4
        }
      ]
    },
    {
      "cell_type": "markdown",
      "metadata": {
        "id": "uLL9MYZQeMHE",
        "colab_type": "text"
      },
      "source": [
        "##  Comparison (aka relational) operators\n",
        "\n",
        "* Comparison operators compare two values and decide the relation among them\n",
        "* They return _true_ if a condition is met and _false_ if its not\n",
        "\n",
        "| Operator | Description | Example | Result |\n",
        "|----------| ----------- | ------- | ------ |\n",
        "| == | true if values are equal     | 2==2  | true  | \n",
        "| != | true if values are not equal | 2!=1  | true  |\n",
        "| >  | greater than                 | 100>2 | true  |\n",
        "| <  | less than                    | 2<-1  | false | \n",
        "| >= | greater than or equal        | 5>=5  | true  | \n",
        "| <= | less than or equal           | 8<=2  | false  |"
      ]
    },
    {
      "cell_type": "markdown",
      "metadata": {
        "id": "76AHpL_GeMHF",
        "colab_type": "text"
      },
      "source": [
        "##### Exercise\n",
        "* Type the examples above\n",
        "* Using the example above, check if the patients systolic blood pressure is _less_ than the diastolic blood pressure"
      ]
    },
    {
      "cell_type": "code",
      "metadata": {
        "id": "01Pzh8o8eMHG",
        "colab_type": "code",
        "colab": {}
      },
      "source": [
        "# your code"
      ],
      "execution_count": 0,
      "outputs": []
    },
    {
      "cell_type": "markdown",
      "metadata": {
        "id": "57eFbXyWeMHI",
        "colab_type": "text"
      },
      "source": [
        "##  Logic operators\n",
        "\n",
        "* Logic operators combine expressions into larger expressions\n",
        "* They work similarly to comparison operators\n",
        "* They return _true_ if a condition is met and _false_ if its not\n",
        "\n",
        "| Operator | Description | Example | Result |\n",
        "|----------| ----------- | ------- | ------ |\n",
        "| and | check if both conditions are true      | 2>1 and 3>4 | false  | \n",
        "| or  | check if either condition is true | 2 < 3 or 1>8  | true  |\n",
        "| xor (^) | check if *only* one condition is true | 4 < 3 xor 3 < 2 | false |"
      ]
    },
    {
      "cell_type": "markdown",
      "metadata": {
        "id": "eeCMPuW0eMHJ",
        "colab_type": "text"
      },
      "source": [
        "##### Exercise\n",
        "* Type the examples above\n",
        "* Using the blood pressure example above, check if a patients systolic blood pressure and diastolic blood pressure are both more than 0"
      ]
    },
    {
      "cell_type": "code",
      "metadata": {
        "id": "MGaI97pheMHK",
        "colab_type": "code",
        "colab": {}
      },
      "source": [
        "# your code"
      ],
      "execution_count": 0,
      "outputs": []
    },
    {
      "cell_type": "markdown",
      "metadata": {
        "id": "Lfr4Rou-eMHM",
        "colab_type": "text"
      },
      "source": [
        "## Data types"
      ]
    },
    {
      "cell_type": "markdown",
      "metadata": {
        "id": "USzQjfzoeMHN",
        "colab_type": "text"
      },
      "source": [
        "### Numbers\n",
        "* Number data types store numeric values.\n",
        "* Number objects are created when you assign a value to them.\n",
        "* Python supports four different numerical data types.\n",
        "\n",
        "| Name    | Usage |\n",
        "| --------| -------| \n",
        "| int     | signed integer             |\n",
        "| long    | long integer               |\n",
        "| float   | floating point real values |\n",
        "| complex | complex numbers            |"
      ]
    },
    {
      "cell_type": "markdown",
      "metadata": {
        "id": "BFQsHBQNeMHY",
        "colab_type": "text"
      },
      "source": [
        "##### Exercise\n",
        "* Create two number variables to store a patients clinical measurements\n",
        "* BMI was 23.4\n",
        "* Height was 182cm\n",
        "* Weight was 88kg"
      ]
    },
    {
      "cell_type": "code",
      "metadata": {
        "id": "ZXU03k51eMHZ",
        "colab_type": "code",
        "colab": {}
      },
      "source": [
        "# your code"
      ],
      "execution_count": 0,
      "outputs": []
    },
    {
      "cell_type": "markdown",
      "metadata": {
        "id": "YG0pdYpXeMHb",
        "colab_type": "text"
      },
      "source": [
        "### Strings\n",
        "* String data types store sequences of characters.\n",
        "* These must be enclosed in quotes (to distinguish them from variable names).\n",
        "* You can join multiple string variables with \"+\"\n",
        "* The len() function can return the total number of characters in a string.\n",
        "* Strings also have many other [built-in functions](https://docs.python.org/2/library/stdtypes.html#string-methods) used to manipulate them."
      ]
    },
    {
      "cell_type": "markdown",
      "metadata": {
        "id": "1TTsdc5ceMHm",
        "colab_type": "text"
      },
      "source": [
        "##### Exercise\n",
        "* Create two variables to store a patients name. \n",
        "* One of the first name (Peter) and one for the second name (Smith).\n",
        "* Create a third variable that contains the name.\n",
        "* Count the number of letters in the full name."
      ]
    },
    {
      "cell_type": "code",
      "metadata": {
        "id": "qkSJTkDpeMHn",
        "colab_type": "code",
        "colab": {}
      },
      "source": [
        "# your code"
      ],
      "execution_count": 0,
      "outputs": []
    },
    {
      "cell_type": "markdown",
      "metadata": {
        "id": "k4vg9eR9eMHq",
        "colab_type": "text"
      },
      "source": [
        "### Lists\n",
        "* Lists are used to group together multiple values.\n",
        "* The values do not necessarilly have to be the same type.\n",
        "* Elements in lists can be added, removed or changed."
      ]
    },
    {
      "cell_type": "markdown",
      "metadata": {
        "id": "WusYDyxAeMH_",
        "colab_type": "text"
      },
      "source": [
        "##### Exercise\n",
        "* Create a list of a patients heart rate measurements: 89, 90, 110, 98, 120, 160, 123, 90, 1000\n",
        "* How many measurements are there?\n",
        "* Print the last heart rate measurement\n",
        "* Print the first heart rate measurement\n",
        "* Print the minimum and maximum\n",
        "* Delete the wrong measurement\n",
        "* Print the minimum and maximum again\n",
        "* Sort the values (hint, use sort()!)"
      ]
    },
    {
      "cell_type": "code",
      "metadata": {
        "id": "OBEtJdnkeMIA",
        "colab_type": "code",
        "colab": {}
      },
      "source": [
        "# your code"
      ],
      "execution_count": 0,
      "outputs": []
    },
    {
      "cell_type": "markdown",
      "metadata": {
        "id": "SMIUnlBJeMIC",
        "colab_type": "text"
      },
      "source": [
        "### Dictionaries\n",
        "* Lists are great - but hard to use to organize things\n",
        "* Python provides another data structure to organize values, the _dictionary_\n",
        "* Dictionaries store data in pairs: a key and a value\n",
        "* Dictionaries allow you to retrieve a value based on the key"
      ]
    },
    {
      "cell_type": "markdown",
      "metadata": {
        "id": "Bmxa724keMIh",
        "colab_type": "text"
      },
      "source": [
        "##### Exercise\n",
        "\n",
        "* Create a dictionary of lists for the following data\n",
        "* A patient can have 1 to 5 heart rate measurements\n",
        "\n",
        "| patid | HR1 | HR2 | HR3 | HR4 | HR5 |\n",
        "| ----- | --- | ----| ----| ----| ----|\n",
        "| 1001| 95 | 123 | 110 | 90 | 100 | \n",
        "| 1002 | 110 | 150 | 160 | 87 | |\n",
        "| 1003 | 120 | 120 |  | 200 | | |\n",
        "\n",
        "* Print all the patients in the dictionary\n",
        "* Get all measurements for patient 1003\n",
        "* Delete all measurements for patient 1001"
      ]
    },
    {
      "cell_type": "code",
      "metadata": {
        "id": "4bsFwLX6eMIi",
        "colab_type": "code",
        "colab": {}
      },
      "source": [
        "# your code"
      ],
      "execution_count": 0,
      "outputs": []
    },
    {
      "cell_type": "markdown",
      "metadata": {
        "id": "_pNr2dssWc-G",
        "colab_type": "text"
      },
      "source": [
        "### Functions"
      ]
    },
    {
      "cell_type": "markdown",
      "metadata": {
        "id": "t3MHEOhlWhKR",
        "colab_type": "text"
      },
      "source": [
        "##### Exercise\n",
        "\n",
        "Write a function, called bmi, which accepts two variables and calculates the BMI "
      ]
    },
    {
      "cell_type": "code",
      "metadata": {
        "id": "IMhoyRusWmTu",
        "colab_type": "code",
        "colab": {}
      },
      "source": [
        "def bmi_calc(height, weight):\n",
        "  # your code\n",
        "\n",
        "patient_bm = bmi_calc(1.79, 80)\n",
        "print (\"The patient's BMI is: \", patient_bm)"
      ],
      "execution_count": 0,
      "outputs": []
    }
  ]
}